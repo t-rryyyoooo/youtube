{
 "cells": [
  {
   "cell_type": "code",
   "execution_count": 26,
   "metadata": {},
   "outputs": [],
   "source": [
    "import numpy as np\n",
    "import pandas as pd"
   ]
  },
  {
   "cell_type": "markdown",
   "metadata": {},
   "source": [
    "# Define method"
   ]
  },
  {
   "cell_type": "code",
   "execution_count": 27,
   "metadata": {},
   "outputs": [],
   "source": [
    "def is_japanese(string):\n",
    "    for chr in string:\n",
    "        try:\n",
    "            name = unicodedata.name(ch)\n",
    "            if \"CJK UNIFIED\" in name or \"HIRAGANA\" in name or \"KATAKANA\" in name:\n",
    "                return true\n",
    "            \n",
    "        except:\n",
    "            continue\n",
    "    \n",
    "    return False\n",
    "\n",
    "def RMSLE(x : np.ndarray, y : np.ndarray):\n",
    "    x_log = np.log(x + 1)\n",
    "    y_log = np.log(y + 1)\n",
    "    mse = ((x_log - y_log)**2).sum() / len(y)\n",
    "    rmsle = np.sqrt(mse)\n",
    "    \n",
    "    return rmsle\n",
    "\n",
    "def new_category(x):\n",
    "    if x in [1, 30, 43, 44, 10, 20, 24]:\n",
    "        return 1\n",
    "    elif x in [26, 27, 28]:\n",
    "        return 2\n",
    "    else:\n",
    "        return x\n",
    "\n",
    "def relate_category(x):\n",
    "    if x in [30, 43, 44]:\n",
    "        return 0\n",
    "    else:\n",
    "        return 1\n",
    "\n",
    "def judge_channel_over_100(x):\n",
    "    if x in [\"ANNnewsCH\", \"Khan Academy\", \"Khan Academy\", \"TED\", \"UNIVERSAL MUSIC JAPAN\", \"avex\"]:\n",
    "        return x\n",
    "    else:\n",
    "        return \"others\"\n",
    "    \n",
    "def is_insta_in_description(x):\n",
    "    x = x.lower()\n",
    "    is_insta = (bool(re.search(\"insta\", x)) or bool(re.search(\"インスタ\", x)))\n",
    "    return is_insta\n",
    "\n",
    "def is_twitter_in_description(x):\n",
    "    x = x.lower()\n",
    "    is_twitter = (bool(re.search(\"twitter\", x)) or bool(re.search(\"ツイッター\", x)))\n",
    "    return is_twitter\n",
    "\n",
    "def is_facebook_in_description(x):\n",
    "    x = x.lower()\n",
    "    is_facebook = (bool(re.search(\"facebook\", x)) or bool(re.search(\"フェイスブック\", x)))\n",
    "    return is_facebook"
   ]
  },
  {
   "cell_type": "markdown",
   "metadata": {},
   "source": [
    "# Preprocessing "
   ]
  },
  {
   "cell_type": "code",
   "execution_count": 28,
   "metadata": {},
   "outputs": [],
   "source": [
    "def fillNan(df):\n",
    "    df[\"tags\"].fillna(\"[none]\", inplace=True)\n",
    "    df[\"description\"].fillna(\" \", inplace=True)\n",
    "    df[\"title\"].fillna(\" \", inplace=True)\n",
    "    \n",
    "    return df\n",
    "\n",
    "def boolToInt(df):\n",
    "    df[\"comments_disabled\"] = df[\"comments_disabled\"].astype(np.int16)\n",
    "    df[\"ratings_disabled\"] = df[\"ratings_disabled\"].astype(np.int16)\n",
    "    \n",
    "    return df\n",
    "\n",
    "def logarize(df):\n",
    "    df[\"log_likes\"] = np.log(df[\"likes\"] + 1)\n",
    "    df[\"log_dislikes\"] = np.log(df[\"dislikes\"] + 1)\n",
    "    df[\"log_comment_count\"] = np.log(df[\"comment_count\"] + 1)\n",
    "    \n",
    "    return df\n",
    "\n",
    "def likes_dislikes_ratio(df):\n",
    "    df[\"likes_dislikes_ratio\"] = df[\"likes\"] / (df[\"dislikes\"] + 1)\n",
    "    return df\n",
    "\n",
    "def comments_likes_ratio(df):\n",
    "    df[\"comments_likes_ratio\"] = df[\"comment_count\"] / (df[\"likes\"] + 1)\n",
    "    return df\n",
    "\n",
    "def comments_dislikes_ratio(df):\n",
    "    df[\"comments_dislikes_ratio\"] = df[\"comment_count\"] / (df[\"dislikes\"] + 1)\n",
    "    return df\n",
    "\n",
    "def likes_comments_disabled(df):\n",
    "    df[\"likes_comments_disabled\"] = np.log(df[\"likes\"] * df[\"comments_disabled\"] + 1)\n",
    "    return df\n",
    "\n",
    "def dislikes_commentes_diabled(df):\n",
    "    df[\"dislikes_comments_disabled\"] = np.log(df[\"likes\"] * df[\"comments_disabled\"] + 1)\n",
    "    return df\n",
    "\n",
    "def comments_ratings_diabled(df):\n",
    "    df[\"comments_ratings_diabled\"] = np.log(df[\"comment_count\"] * df[\"ratings_disabled\"] + 1)\n",
    "    return df\n",
    "\n",
    "def getTagDetail(df):\n",
    "    df[\"num_tags\"] = df[\"tags\"].astype(str).apply(lambda x : len(x.split(\"|\")))\n",
    "    df[\"length_tags\"] = df[\"tags\"].astype(str).apply(lambda x : len(x))\n",
    "    df[\"tags_point\"] = df[\"tags\"].apply(lambda x : sum([bool(re.search(\"[a-zA-Z0-9]\", px)) for px in x.split(\"|\")])) # ??\n",
    "    df[\"count_en_tag\"] = df[\"tags\"].apply(lambda x : sum([bool(re.search(\"[a-zA-Z0-9]\", px)) for px in x.split(\"|\")]))\n",
    "    df[\"count_ja_tag\"] = df[\"tags\"].apply(lambda x : sum([is_japanese(px) for px in x.split(\"|\")]))\n",
    "    \n",
    "    return df\n",
    "\n",
    "def getPublishedAtDetail(df):\n",
    "    df[\"publishedAt\"] = pd.to_datetime(df[\"publishedAt\"], utc=True)\n",
    "    df[\"publishedAt_year\"] = df[\"publishedAt\"].apply(lambda x: x.year)\n",
    "    df[\"publishedAt_month\"] = df[\"publishedAt\"].apply(lambda x: x.month)\n",
    "    df[\"publishedAt_day\"] = df[\"publishedAt\"].apply(lambda x: x.day)\n",
    "    df[\"publishedAt_hour\"] = df[\"publishedAt\"].apply(lambda x: x.hour)\n",
    "    df[\"publishedAt_minute\"] = df[\"publishedAt\"].apply(lambda x: x.minute)\n",
    "    df[\"publishedAt_second\"] = df[\"publishedAt\"].apply(lambda x: x.second)\n",
    "    df[\"publishedAt_dayofweek\"] = df[\"publishedAt\"].apply(lambda x: x.dayofweek)\n",
    "    \n",
    "    return df\n",
    "\n",
    "def getColletction_dateDetail(df):\n",
    "    df[\"collection_date\"] = pd.to_datetime(\"20\"+df[\"collection_date\"].astype(str), format=\"%Y.%d.%m\", utc=True)\n",
    "    df[\"collection_date_year\"] = df[\"collection_date\"].apply(lambda x : x.year)\n",
    "    df[\"collection_date_month\"] = df[\"collection_date\"].apply(lambda x : x.month)\n",
    "    df[\"collection_date_day\"] = df[\"collection_date\"].apply(lambda x : x.day)\n",
    "    \n",
    "    return df\n",
    "\n",
    "def delta(df):\n",
    "    df[\"delta\"] = (df[\"collection_date\"] - df[\"publishedAt\"]).apply(lambda x: x.days)\n",
    "    df[\"logdelta\"] = np.log(df[\"delta\"])\n",
    "    #df[\"sqrtdelta\"] = np.sqrt(df[\"delta\"])\n",
    "    df[\"published_delta\"] = (df[\"publishedAt\"] - df[\"publishedAt\"].min()).apply(lambda x: x.days)\n",
    "    df[\"collection_delta\"] = (df[\"collection_date\"] - df[\"collection_date\"].min()).apply(lambda x: x.days)\n",
    "    \n",
    "    return df\n",
    "\n",
    "def getDescriptionDetail(df):\n",
    "    df[\"is_http_in_dis\"] = df[\"description\"].astype(str).apply(lambda x: x.lower().count(\"http\"))\n",
    "    df[\"len_description\"] = df[\"description\"].astype(str).apply(lambda x: len(x))\n",
    "    #df[\"is_insta_in_dis\"] = df[\"description\"].astype(str).apply(lambda x : is_insta_in_description(x)) #\n",
    "    #df[\"is_twitter_in_dis\"] = df[\"description\"].astype(str).apply(lambda x : is_twitter_in_description(x))\n",
    "    df[\"is_insta_in_dis\"] = df[\"description\"].apply(lambda x : x.lower().count(\"insta\"))\n",
    "    df[\"is_twitter_in_dis\"] = df[\"description\"].apply(lambda x : x.lower().count(\"twitter\"))\n",
    "    #df[\"is_facebook_in_dis\"] = df[\"description\"].astype(str).apply(lambda x : is_facebook_in_description(x))\n",
    "    return df\n",
    "\n",
    "def lenTitle(df):\n",
    "    df[\"len_title\"] = df[\"title\"].apply(lambda x : len(x))\n",
    "    \n",
    "    return df\n",
    "\n",
    "def confirmJapanese(df):\n",
    "    df[\"ja_title\"] = df[\"title\"].apply(lambda x: is_japanese(x)).astype(np.int)\n",
    "    df[\"ja_tags\"] = df[\"tags\"].apply(lambda x: is_japanese(x)).astype(np.int)\n",
    "    df[\"ja_description\"] = df[\"description\"].apply(lambda x: is_japanese(x)).astype(np.int)\n",
    "    \n",
    "    return df\n",
    "\n",
    "def countEnglish(df):\n",
    "    df[\"en_title\"] = df[\"title\"].apply(lambda x: len(re.findall(r'[a-zA-Z0-9]', x.lower())))\n",
    "    df[\"en_tags\"] = df[\"tags\"].apply(lambda x: len(re.findall(r'[a-zA-Z0-9]', x.lower())))\n",
    "    df[\"en_description\"] = df[\"description\"].apply(lambda x: len(re.findall(r'[a-zA-Z0-9]', x.lower())))\n",
    "    \n",
    "    return df\n",
    "\n",
    "def getMusic(df):\n",
    "    df[\"music_title\"] = df[\"title\"].apply(lambda x: \"music\" in x.lower()).astype(np.int)\n",
    "    df[\"music_tags\"] = df[\"tags\"].apply(lambda x: \"music\" in x.lower()).astype(np.int)\n",
    "    df[\"music_description\"] = df[\"description\"].apply(lambda x: \"music\" in x.lower()).astype(np.int)\n",
    "    \n",
    "    return df\n",
    "\n",
    "def confirmOfficial(df):\n",
    "    df[\"is_off\"] = df[\"title\"].apply(lambda x: \"fficial\" in x.lower()).astype(np.int)\n",
    "    df[\"is_off_channell\"] = df[\"channelTitle\"].apply(lambda x: \"fficial\" in x.lower()).astype(np.int)\n",
    "    df[\"is_off_ja\"] = df[\"title\"].apply(lambda x: \"公式\" in x.lower()).astype(np.int)\n",
    "    df[\"is_off_channell_ja\"] = df[\"channelTitle\"].apply(lambda x: \"公式\" in x.lower()).astype(np.int)\n",
    "    \n",
    "    return df\n",
    "\n",
    "def getCM(df):\n",
    "    df[\"cm_title\"] = df[\"title\"].apply(lambda x: \"cm\" in x.lower()).astype(np.int)\n",
    "    df[\"cm_tags\"] = df[\"tags\"].apply(lambda x: \"cm\" in x.lower()).astype(np.int)\n",
    "    df[\"cm_description\"] = df[\"description\"].apply(lambda x: \"cm\" in x.lower()).astype(np.int)\n",
    "    \n",
    "    return df\n",
    "\n",
    "def get_dummies_from_category(df):\n",
    "    #df[\"new_category\"] = df[\"categoryId\"].apply(lambda x : new_category(x))\n",
    "    df = pd.concat([df, pd.get_dummies(df[\"categoryId\"])], axis=1)\n",
    "    del df[\"categoryId\"]\n",
    "    return df\n",
    "\n",
    "\n",
    "def get_num_channel_over_100(df):\n",
    "    df[\"channelTitle\"] = df[\"channelTitle\"].apply(lambda x : judge_channel_over_100(x))\n",
    "    df = pd.concat([df, pd.get_dummies(df[\"channelTitle\"])], axis=1)\n",
    "    return df\n",
    "\n",
    "def judge_categoryId_over_30(df):\n",
    "    df[\"categoryId_over_30\"] = df[\"categoryId\"].apply(lambda x : 1 if x >= 30 else 0)\n",
    "    return df"
   ]
  },
  {
   "cell_type": "code",
   "execution_count": 30,
   "metadata": {},
   "outputs": [
    {
     "data": {
      "text/plain": [
       "(19720, 17)"
      ]
     },
     "execution_count": 30,
     "metadata": {},
     "output_type": "execute_result"
    }
   ],
   "source": [
    "train = pd.read_csv(\"data/train_data.csv\")\n",
    "test = pd.read_csv(\"data/test_data.csv\")\n",
    "train.shape"
   ]
  },
  {
   "cell_type": "code",
   "execution_count": 80,
   "metadata": {},
   "outputs": [
    {
     "data": {
      "text/plain": [
       "id                                                                1089\n",
       "video_id                                                   5yUXVTX8iWw\n",
       "title                【日本史第６弾】ついに戦国〜江戸時代編に突入！中田敦彦のエクストリーム授業！織田信長・豊臣秀...\n",
       "publishedAt                                   2019-05-29T12:19:04.000Z\n",
       "channelId                                     UCFo4kqllbcQ4nV83WCyraiw\n",
       "channelTitle                                            中田敦彦のYouTube大学\n",
       "categoryId                                                          24\n",
       "collection_date                                               20.09.02\n",
       "tags                 #中田敦彦|#オリエンタルラジオ|#オリラジ|#RADIOFISH|歴史|世界史|日本史|授...\n",
       "likes                                                             9865\n",
       "dislikes                                                           653\n",
       "comment_count                                                      932\n",
       "thumbnail_link          https://i.ytimg.com/vi/5yUXVTX8iWw/default.jpg\n",
       "comments_disabled                                                False\n",
       "ratings_disabled                                                 False\n",
       "description          授業を生で受けてみたい人や、動画スタッフとして参加してみたい人は中田敦彦オンラインサロンへど...\n",
       "y                                                              1325813\n",
       "Name: 1088, dtype: object"
      ]
     },
     "execution_count": 80,
     "metadata": {},
     "output_type": "execute_result"
    }
   ],
   "source": [
    "train.iloc[1088, :]"
   ]
  },
  {
   "cell_type": "code",
   "execution_count": 78,
   "metadata": {},
   "outputs": [
    {
     "data": {
      "text/plain": [
       "id                                                                1099\n",
       "video_id                                                   fud4-L2lnqQ\n",
       "title                      【サピエンス全史】1200万部突破の世界的ベストセラーを世界一わかりやすく解説〜上巻〜\n",
       "publishedAt                                   2019-12-08T14:01:04.000Z\n",
       "channelId                                     UCFo4kqllbcQ4nV83WCyraiw\n",
       "channelTitle                                            中田敦彦のYouTube大学\n",
       "categoryId                                                          24\n",
       "collection_date                                               20.09.02\n",
       "tags                 #中田敦彦|#オリエンタルラジオ|#オリラジ|#RADIOFISH|歴史|世界史|日本史|授...\n",
       "likes                                                            10648\n",
       "dislikes                                                           549\n",
       "comment_count                                                     1074\n",
       "thumbnail_link          https://i.ytimg.com/vi/fud4-L2lnqQ/default.jpg\n",
       "comments_disabled                                                False\n",
       "ratings_disabled                                                 False\n",
       "description          中田敦彦の授業を生で受けてみたい人や動画スタッフとして参加してみたい人はオンラインサロン「P...\n",
       "y                                                               984336\n",
       "Name: 1098, dtype: object"
      ]
     },
     "execution_count": 78,
     "metadata": {},
     "output_type": "execute_result"
    }
   ],
   "source": [
    "train.iloc[1098, :]"
   ]
  },
  {
   "cell_type": "code",
   "execution_count": 33,
   "metadata": {},
   "outputs": [],
   "source": [
    "import cv2\n",
    "from matplotlib import pyplot as plt"
   ]
  },
  {
   "cell_type": "code",
   "execution_count": 59,
   "metadata": {},
   "outputs": [
    {
     "name": "stdout",
     "output_type": "stream",
     "text": [
      "[200 203 164]\n"
     ]
    },
    {
     "data": {
      "text/plain": [
       "-1.054054054054054"
      ]
     },
     "execution_count": 59,
     "metadata": {},
     "output_type": "execute_result"
    },
    {
     "data": {
      "image/png": "[encoded data removed]",
      "text/plain": [
       "<Figure size 432x288 with 1 Axes>"
      ]
     },
     "metadata": {
      "needs_background": "light"
     },
     "output_type": "display_data"
    }
   ],
   "source": [
    "img = cv2.imread(\"thumbnail/train/image_00001.jpeg\")\n",
    "#img = cv2.cvtColor(img, cv2.COLOR_BGR2RGB)\n",
    "print(img[50,0, :])\n",
    "plt.imshow(img)\n",
    "(203 - 164)/(1 - abs(203 - 164 - 1))"
   ]
  },
  {
   "cell_type": "code",
   "execution_count": 60,
   "metadata": {},
   "outputs": [
    {
     "name": "stdout",
     "output_type": "stream",
     "text": [
      "[ 88 184  70]\n"
     ]
    },
    {
     "data": {
      "text/plain": [
       "<matplotlib.image.AxesImage at 0x7f7dea8c0898>"
      ]
     },
     "execution_count": 60,
     "metadata": {},
     "output_type": "execute_result"
    },
    {
     "data": {
      "image/png": "[encoded data removed]",
      "text/plain": [
       "<Figure size 432x288 with 1 Axes>"
      ]
     },
     "metadata": {
      "needs_background": "light"
     },
     "output_type": "display_data"
    }
   ],
   "source": [
    "img = cv2.cvtColor(img, cv2.COLOR_BGR2HLS)\n",
    "print(img[50,0, :])\n",
    "plt.imshow(img)"
   ]
  },
  {
   "cell_type": "markdown",
   "metadata": {},
   "source": [
    "# Run preprocessing"
   ]
  },
  {
   "cell_type": "code",
   "execution_count": 126,
   "metadata": {},
   "outputs": [],
   "source": [
    "def preprocessing(df, df_test, methods):\n",
    "    for method in methods:\n",
    "        df = method(df)\n",
    "        df_test = method(df_test)\n",
    "    \n",
    "    return df, df_test"
   ]
  },
  {
   "cell_type": "code",
   "execution_count": 127,
   "metadata": {},
   "outputs": [],
   "source": [
    "train, test = preprocessing(\n",
    "    train, \n",
    "    test, \n",
    "    [fillNan, \n",
    "     logarize, \n",
    "     boolToInt,\n",
    "     likes_dislikes_ratio,\n",
    "     comments_likes_ratio,\n",
    "     comments_dislikes_ratio,\n",
    "     likes_comments_disabled,\n",
    "     dislikes_commentes_diabled,\n",
    "     comments_ratings_diabled,\n",
    "     getTagDetail,\n",
    "     getPublishedAtDetail,\n",
    "     getColletction_dateDetail,\n",
    "     delta,\n",
    "     getDescriptionDetail,\n",
    "     lenTitle,\n",
    "     confirmJapanese,\n",
    "     countEnglish,\n",
    "     getMusic,\n",
    "     confirmOfficial,\n",
    "     getCM,\n",
    "     #get_dummies_from_category,\n",
    "     get_num_channel_over_100,\n",
    "     #judge_categoryId_over_30\n",
    "    ]\n",
    ")\n",
    "\n"
   ]
  },
  {
   "cell_type": "markdown",
   "metadata": {},
   "source": [
    "Category ID, カテゴリへの関連付け  \n",
    "1 : Film and animation 1   \n",
    "2 : Autos and vehicles 1   \n",
    "10 : Music 1   \n",
    "15 : Pets and animals 1   \n",
    "17 : Sports 1   \n",
    "19 : Travel and events 1   \n",
    "20 : Gaming 1   \n",
    "22 : People and blogs 1   \n",
    "23 : Comedy 1   \n",
    "24 : Entertainment 1   \n",
    "25 : News and politics 1   \n",
    "26 : Howto and style 1   \n",
    "27 : Education 1   \n",
    "28 : Science and technology 1   \n",
    "29 : ?  \n",
    "30 : Movies 0   \n",
    "43 : Shows（番組）0   \n",
    "44 : Trailers（予告編）0   "
   ]
  },
  {
   "cell_type": "markdown",
   "metadata": {},
   "source": [
    "Movies, entertaiments 1 - 30 - 43 - 44 - (10) - (20) -(24)  \n",
    "Vhehicles 2  \n",
    "Sounds 10  \n",
    "Animals 15  \n",
    "Sports 17  \n",
    "Travels 19  \n",
    "Games 20  \n",
    "Blogs : 22 - 26  \n",
    "Politics : 25  \n",
    "Howto : 26  \n",
    "Study : (26) - 27 - 28  \n"
   ]
  },
  {
   "cell_type": "markdown",
   "metadata": {},
   "source": [
    "# Prepare data"
   ]
  },
  {
   "cell_type": "code",
   "execution_count": 128,
   "metadata": {},
   "outputs": [
    {
     "name": "stdout",
     "output_type": "stream",
     "text": [
      "idx :  ['categoryId', 'comments_disabled', 'ratings_disabled', 'log_likes', 'log_dislikes', 'log_comment_count', 'likes_dislikes_ratio', 'comments_likes_ratio', 'comments_dislikes_ratio', 'likes_comments_disabled', 'dislikes_comments_disabled', 'comments_ratings_diabled', 'num_tags', 'length_tags', 'tags_point', 'count_en_tag', 'count_ja_tag', 'publishedAt_year', 'publishedAt_month', 'publishedAt_day', 'publishedAt_hour', 'publishedAt_minute', 'publishedAt_second', 'publishedAt_dayofweek', 'collection_date_year', 'collection_date_month', 'collection_date_day', 'logdelta', 'published_delta', 'collection_delta', 'is_http_in_dis', 'len_description', 'is_insta_in_dis', 'is_twitter_in_dis', 'len_title', 'ja_title', 'ja_tags', 'ja_description', 'en_title', 'en_tags', 'en_description', 'music_title', 'music_tags', 'music_description', 'is_off', 'is_off_channell', 'is_off_ja', 'is_off_channell_ja', 'cm_title', 'cm_tags', 'cm_description', 'ANNnewsCH', 'Khan Academy', 'TED', 'UNIVERSAL MUSIC JAPAN', 'avex', 'others']\n"
     ]
    }
   ],
   "source": [
    "idx = []\n",
    "for column in train.columns:\n",
    "    if column in [\"y\", \"likes\", \"dislikes\", \"comment_count\", \n",
    "                  \"delta\", \"channelId\", \"video_id\", \"title\",\n",
    "                  \"description\", \"thumbnail_link\", \n",
    "                  \"tags\", \"publishedAt\", \"collection_date\", \"id\", \"channelTitle\"]:#, \"categoryId\"]:\n",
    "        continue\n",
    "    idx.append(column)\n",
    "print(\"idx : \", idx)"
   ]
  },
  {
   "cell_type": "code",
   "execution_count": 129,
   "metadata": {},
   "outputs": [
    {
     "name": "stdout",
     "output_type": "stream",
     "text": [
      "X shape :  (19720, 57)\n"
     ]
    }
   ],
   "source": [
    "X = train.loc[:, idx].values\n",
    "Y = np.log(train.loc[:, \"y\"]).values\n",
    "\n",
    "print(\"X shape : \", X.shape)\n",
    "\n",
    "x_train, x_test, y_train, y_test = train_test_split(X, Y, test_size=0.5, random_state=42)\n",
    "x_train_train, x_train_test, y_train_train, y_train_test = train_test_split(x_train, y_train, test_size=0.3, random_state=42)"
   ]
  },
  {
   "cell_type": "markdown",
   "metadata": {},
   "source": [
    "\n",
    "# Build a model and validation"
   ]
  },
  {
   "cell_type": "code",
   "execution_count": 102,
   "metadata": {},
   "outputs": [
    {
     "name": "stdout",
     "output_type": "stream",
     "text": [
      "K =  4\n",
      "Training until validation scores don't improve for 100 rounds\n",
      "Early stopping, best iteration is:\n",
      "[1403]\tvalid_0's rmse: 0.854798\n",
      "Training until validation scores don't improve for 100 rounds\n",
      "Early stopping, best iteration is:\n",
      "[1180]\tvalid_0's rmse: 0.934997\n",
      "Training until validation scores don't improve for 100 rounds\n",
      "Early stopping, best iteration is:\n",
      "[857]\tvalid_0's rmse: 0.853014\n",
      "Training until validation scores don't improve for 100 rounds\n",
      "Early stopping, best iteration is:\n",
      "[2335]\tvalid_0's rmse: 0.82975\n",
      "Test RMSLE : 0.8677254918926922±0.0015941995790084965\n"
     ]
    }
   ],
   "source": [
    "K = 4\n",
    "\n",
    "print(\"K = \", K)\n",
    "kf = KFold(n_splits = K, shuffle=True, random_state=42).split(x_train, y_train)\n",
    "gbm = [None] * K\n",
    "scores = []\n",
    "scores_test = []\n",
    "for i, (train_idx, test_idx) in enumerate(kf):\n",
    "    x_train = X[train_idx]\n",
    "    y_train = Y[train_idx]\n",
    "    x_test = X[test_idx]\n",
    "    y_test = Y[test_idx]\n",
    "   \n",
    "    lgb_train = lgb.Dataset(x_train, y_train)\n",
    "    lgb_test = lgb.Dataset(x_test, y_test)\n",
    "\n",
    "\n",
    "\n",
    "    # LightGBM parameters\n",
    "    params = {\n",
    "            'task' : 'train',\n",
    "            'boosting_type' : 'gbdt',\n",
    "            'objective' : 'regression',\n",
    "            'metric' : \"rmse\",\n",
    "            'num_leaves' : 32,\n",
    "            'learning_rate' : 0.01,\n",
    "            #'feature_fraction' : 0.9,\n",
    "            #'bagging_fraction' : 0.8,\n",
    "            #'bagging_freq': 5,\n",
    "            'random_state' : 42\n",
    "\n",
    "\n",
    "    }\n",
    "\n",
    "    # train\n",
    "    gbm[i] = lgb.train(\n",
    "        params,\n",
    "        lgb_train,\n",
    "        num_boost_round=10000,\n",
    "        valid_sets=lgb_test,\n",
    "        early_stopping_rounds=100, \n",
    "        verbose_eval=10000\n",
    "    )\n",
    "\n",
    "\n",
    "    y_pred = gbm[i].predict(x_test, num_iteration=gbm[i].best_iteration)\n",
    "    y_pred = np.exp(y_pred).astype(int)\n",
    "    y_pred[y_pred < 0] = 0\n",
    "    rmsle_test = RMSLE(y_pred, np.exp(y_test))\n",
    "\n",
    "    scores_test.append(rmsle_test)\n",
    "\n",
    "\n",
    "print(\"Test RMSLE : {}±{}\".format(np.mean(scores_test), np.var(scores_test)))\n",
    "\n"
   ]
  },
  {
   "cell_type": "markdown",
   "metadata": {},
   "source": [
    "Provisual best score : 0.8166593973772355±0.0007880495387959792"
   ]
  },
  {
   "cell_type": "markdown",
   "metadata": {},
   "source": [
    "# Let model learn with Kfold and predict test data."
   ]
  },
  {
   "cell_type": "code",
   "execution_count": 130,
   "metadata": {},
   "outputs": [
    {
     "name": "stdout",
     "output_type": "stream",
     "text": [
      "K =  11\n",
      "Training until validation scores don't improve for 100 rounds\n",
      "Early stopping, best iteration is:\n",
      "[2932]\tvalid_0's rmse: 0.82372\n",
      "Training until validation scores don't improve for 100 rounds\n",
      "Early stopping, best iteration is:\n",
      "[1605]\tvalid_0's rmse: 0.852365\n",
      "Training until validation scores don't improve for 100 rounds\n",
      "Early stopping, best iteration is:\n",
      "[2476]\tvalid_0's rmse: 0.793982\n",
      "Training until validation scores don't improve for 100 rounds\n",
      "Early stopping, best iteration is:\n",
      "[2059]\tvalid_0's rmse: 0.858234\n",
      "Training until validation scores don't improve for 100 rounds\n",
      "Early stopping, best iteration is:\n",
      "[2134]\tvalid_0's rmse: 0.791149\n",
      "Training until validation scores don't improve for 100 rounds\n",
      "Early stopping, best iteration is:\n",
      "[1923]\tvalid_0's rmse: 0.774793\n",
      "Training until validation scores don't improve for 100 rounds\n",
      "Early stopping, best iteration is:\n",
      "[2849]\tvalid_0's rmse: 0.80341\n",
      "Training until validation scores don't improve for 100 rounds\n",
      "Early stopping, best iteration is:\n",
      "[2449]\tvalid_0's rmse: 0.809579\n",
      "Training until validation scores don't improve for 100 rounds\n",
      "Early stopping, best iteration is:\n",
      "[3912]\tvalid_0's rmse: 0.786738\n",
      "Training until validation scores don't improve for 100 rounds\n",
      "Early stopping, best iteration is:\n",
      "[2717]\tvalid_0's rmse: 0.769929\n",
      "Training until validation scores don't improve for 100 rounds\n",
      "Early stopping, best iteration is:\n",
      "[2743]\tvalid_0's rmse: 0.767556\n",
      "Training RMSLE :0.5385149382167732±0.0013593089933693263 \n",
      "Test RMSLE : 0.8022519243581093±0.0008709580985751859\n"
     ]
    }
   ],
   "source": [
    "K = 11\n",
    "\n",
    "print(\"K = \", K)\n",
    "kf = KFold(n_splits = K, shuffle=True, random_state=42).split(X, Y)\n",
    "gbm = [None] * K\n",
    "scores = []\n",
    "scores_test = []\n",
    "for i, (train_idx, test_idx) in enumerate(kf):\n",
    "    x_train = X[train_idx]\n",
    "    y_train = Y[train_idx]\n",
    "    x_test = X[test_idx]\n",
    "    y_test = Y[test_idx]\n",
    "   \n",
    "    lgb_train = lgb.Dataset(x_train, y_train)\n",
    "    lgb_test = lgb.Dataset(x_test, y_test)\n",
    "\n",
    "\n",
    "\n",
    "    # LightGBM parameters\n",
    "    params = {\n",
    "            'task' : 'train',\n",
    "            'boosting_type' : 'gbdt',\n",
    "            'objective' : 'regression',\n",
    "            'metric' : \"rmse\",\n",
    "            'num_leaves' : 32,\n",
    "            'learning_rate' : 0.01,\n",
    "            #'feature_fraction' : 0.9,\n",
    "            #'bagging_fraction' : 0.8,\n",
    "            #'bagging_freq': 5,\n",
    "            'random_state' : 42\n",
    "\n",
    "\n",
    "    }\n",
    "\n",
    "    # train\n",
    "    gbm[i] = lgb.train(\n",
    "        params,\n",
    "        lgb_train,\n",
    "        num_boost_round=10000,\n",
    "        valid_sets=lgb_test,\n",
    "        early_stopping_rounds=100, \n",
    "        verbose_eval=10000\n",
    "    )\n",
    "\n",
    "    y_pred = gbm[i].predict(x_train, num_iteration=gbm[i].best_iteration)\n",
    "    y_pred = np.exp(y_pred).astype(int)\n",
    "    y_pred[y_pred < 0] = 0\n",
    "    rmsle_train = RMSLE(y_pred, np.exp(y_train))\n",
    "    y_pred = gbm[i].predict(x_test, num_iteration=gbm[i].best_iteration)\n",
    "    y_pred = np.exp(y_pred).astype(int)\n",
    "    y_pred[y_pred < 0] = 0\n",
    "    rmsle_test = RMSLE(y_pred, np.exp(y_test))\n",
    "\n",
    "    scores.append(rmsle_train)\n",
    "    scores_test.append(rmsle_test)\n",
    "\n",
    "\n",
    "print(\"Training RMSLE :{}±{} \".format(np.mean(scores), np.var(scores)))\n",
    "print(\"Test RMSLE : {}±{}\".format(np.mean(scores_test), np.var(scores_test)))\n"
   ]
  },
  {
   "cell_type": "code",
   "execution_count": 131,
   "metadata": {},
   "outputs": [],
   "source": [
    "t = test.loc[:, idx].values"
   ]
  },
  {
   "cell_type": "code",
   "execution_count": 132,
   "metadata": {},
   "outputs": [],
   "source": [
    "K = 11\n",
    "y_pred = np.array([0.] * len(t))\n",
    "for x in range(K):\n",
    "    pred = gbm[x].predict(t, num_iteration=gbm[x].best_iteration)\n",
    "    pred = np.exp(pred)\n",
    "    pred[pred < 0] = 0\n",
    "    y_pred += pred\n",
    "    \n",
    "\n",
    "y_pred = (y_pred / K).astype(np.int)"
   ]
  },
  {
   "cell_type": "code",
   "execution_count": 133,
   "metadata": {},
   "outputs": [],
   "source": [
    "data = np.array([list(range(1, len(y_pred)+1)), y_pred]).T\n",
    "df_submit = pd.DataFrame(\n",
    "    data,\n",
    "    columns=[\"id\", \"y\"]\n",
    ")"
   ]
  },
  {
   "cell_type": "code",
   "execution_count": 134,
   "metadata": {},
   "outputs": [
    {
     "data": {
      "text/html": [
       "<div>\n",
       "<style scoped>\n",
       "    .dataframe tbody tr th:only-of-type {\n",
       "        vertical-align: middle;\n",
       "    }\n",
       "\n",
       "    .dataframe tbody tr th {\n",
       "        vertical-align: top;\n",
       "    }\n",
       "\n",
       "    .dataframe thead th {\n",
       "        text-align: right;\n",
       "    }\n",
       "</style>\n",
       "<table border=\"1\" class=\"dataframe\">\n",
       "  <thead>\n",
       "    <tr style=\"text-align: right;\">\n",
       "      <th></th>\n",
       "      <th>id</th>\n",
       "      <th>y</th>\n",
       "    </tr>\n",
       "  </thead>\n",
       "  <tbody>\n",
       "    <tr>\n",
       "      <th>0</th>\n",
       "      <td>1</td>\n",
       "      <td>257234</td>\n",
       "    </tr>\n",
       "    <tr>\n",
       "      <th>1</th>\n",
       "      <td>2</td>\n",
       "      <td>2622811</td>\n",
       "    </tr>\n",
       "    <tr>\n",
       "      <th>2</th>\n",
       "      <td>3</td>\n",
       "      <td>886744</td>\n",
       "    </tr>\n",
       "    <tr>\n",
       "      <th>3</th>\n",
       "      <td>4</td>\n",
       "      <td>163382</td>\n",
       "    </tr>\n",
       "    <tr>\n",
       "      <th>4</th>\n",
       "      <td>5</td>\n",
       "      <td>251</td>\n",
       "    </tr>\n",
       "  </tbody>\n",
       "</table>\n",
       "</div>"
      ],
      "text/plain": [
       "   id        y\n",
       "0   1   257234\n",
       "1   2  2622811\n",
       "2   3   886744\n",
       "3   4   163382\n",
       "4   5      251"
      ]
     },
     "execution_count": 134,
     "metadata": {},
     "output_type": "execute_result"
    }
   ],
   "source": [
    "df_submit.head()"
   ]
  },
  {
   "cell_type": "code",
   "execution_count": 120,
   "metadata": {},
   "outputs": [],
   "source": [
    "df_submit.to_csv(\"submit_7.csv\", index=False)"
   ]
  },
  {
   "cell_type": "markdown",
   "metadata": {},
   "source": [
    "# CNN"
   ]
  },
  {
   "cell_type": "code",
   "execution_count": 11,
   "metadata": {},
   "outputs": [],
   "source": [
    "import torch\n",
    "from torch import nn, optim\n",
    "from torch.utils.data import DataLoader, Dataset\n",
    "from torchvision import transforms\n",
    "from efficientnet_pytorch import EfficientNet\n",
    "import cv2\n",
    "from torchvision import transforms\n",
    "import pytorch_lightning as pl\n",
    "import numpy as np\n",
    "import random\n",
    "from PIL import Image\n",
    "import cloudpickle\n",
    "from pathlib import Path\n",
    "from pytorch_lightning.loggers import CometLogger\n",
    "import  pandas as pd\n",
    "torch.manual_seed(42)\n",
    "np.random.seed(42)\n",
    "random.seed(42)\n",
    "torch.backends.cudnn.deterministic = True\n",
    "torch.backends.cudnn.benchmark = False"
   ]
  },
  {
   "cell_type": "code",
   "execution_count": 2,
   "metadata": {},
   "outputs": [
    {
     "data": {
      "text/plain": [
       "(19720, 17)"
      ]
     },
     "execution_count": 2,
     "metadata": {},
     "output_type": "execute_result"
    }
   ],
   "source": [
    "train = pd.read_csv(\"data/train_data.csv\")\n",
    "test = pd.read_csv(\"data/test_data.csv\")\n",
    "train.shape"
   ]
  },
  {
   "cell_type": "code",
   "execution_count": 3,
   "metadata": {},
   "outputs": [],
   "source": [
    "def RMSE(x , y):\n",
    "    mse = ((x - y)**2).mean()\n",
    "    rmse = torch.sqrt(mse)\n",
    "\n",
    "    return rmse"
   ]
  },
  {
   "cell_type": "code",
   "execution_count": 4,
   "metadata": {},
   "outputs": [],
   "source": [
    "class EfficientNetDataset(Dataset):\n",
    "    def __init__(self, dataset, series, transform, phase=\"train\"):\n",
    "        super(EfficientNetDataset, self).__init__()\n",
    "        self.dataset = dataset\n",
    "        self.series = series\n",
    "        self.phase = phase\n",
    "        self.transform = transform\n",
    "    \n",
    "        \n",
    "    def __len__(self):\n",
    "        return len(self.series)\n",
    "    \n",
    "    def __getitem__(self, index):\n",
    "        path = self.dataset[index]\n",
    "        label = self.series[index]\n",
    "        label = label[np.newaxis,...]\n",
    "        image = Image.open(path)\n",
    "        image = self.transform(self.phase, image)\n",
    "        \n",
    "        return image, label\n",
    "\n",
    "class EfficientNetTransform():\n",
    "    def __init__(self, input_size):\n",
    "        self.transforms = {\n",
    "            \"train\" : transforms.Compose([\n",
    "                transforms.Resize(input_size),\n",
    "                transforms.ToTensor(), \n",
    "                transforms.Normalize((0.485, 0.456, 0.406), (0.229, 0.224, 0.225))\n",
    "            ]), \n",
    "            \"val\" : transforms.Compose([\n",
    "                transforms.Resize(input_size),\n",
    "                transforms.ToTensor(),\n",
    "                transforms.Normalize((0.485, 0.456, 0.406), (0.229, 0.224, 0.225))\n",
    "            ])\n",
    "        }\n",
    "        \n",
    "    def __call__(self, phase, image):\n",
    "        image = self.transforms[phase](image)\n",
    "        \n",
    "        return image\n",
    "\n",
    "class EfficientNetModel(nn.Module):\n",
    "    def __init__(self):\n",
    "        super(EfficientNetModel, self).__init__()\n",
    "        self.model = EfficientNet.from_pretrained('efficientnet-b7')\n",
    "        \n",
    "        #Actually, you should set learning rate for each layer.\n",
    "        for params in self.model.parameters():\n",
    "            params.requires_grad = True\n",
    "        \n",
    "        num_ftrs = self.model._fc.in_features\n",
    "        self.model._fc = nn.Linear(num_ftrs, 1)\n",
    "        \n",
    "    def forward(self, x):\n",
    "        x = self.model(x)\n",
    "        \n",
    "        return x\n",
    "\n",
    "class BestModelCheckpoint(object):\n",
    "    def __init__(self, save_directory, best_name=\"best.pkl\"):\n",
    "        self.best_value = 10**9\n",
    "        self.save_directory= Path(save_directory)\n",
    "        self.save_directory.mkdir(parents=True, exist_ok=True)\n",
    "        self.best_path = self.save_directory / best_name\n",
    "\n",
    "\n",
    "    def __call__(self, pred, model):\n",
    "        if pred < self.best_value:\n",
    "            self.best_value = pred\n",
    "\n",
    "            with open(self.best_path, \"wb\") as f:\n",
    "                cloudpickle.dump(model, f)\n",
    "\n",
    "\n",
    "class EfficientNetSystem(pl.LightningModule):\n",
    "    def __init__(self, train_dataset, train_series, val_dataset, val_series, input_size, batch_size, checkpoint, lr=0.0001, num_workers=6):\n",
    "        super(EfficientNetSystem, self).__init__()\n",
    "        use_cuda = torch.cuda.is_available() and True\n",
    "        self.device = torch.device(\"cuda\" if use_cuda else \"cpu\")\n",
    "        self.train_dataset = train_dataset\n",
    "        self.train_series = train_series\n",
    "        self.val_dataset = val_dataset\n",
    "        self.val_series = val_series\n",
    "        self.input_size = input_size\n",
    "        self.batch_size = batch_size\n",
    "        self.num_workers = num_workers\n",
    "        self.learning_rate = lr\n",
    "        self.model = EfficientNetModel().to(self.device)\n",
    "        self.loss = nn.MSELoss(size_average = False)\n",
    "        self.checkpoint = checkpoint\n",
    "    \n",
    "    def forward(self, x):\n",
    "        x = self.model(x)\n",
    "        \n",
    "        return x\n",
    "    \n",
    "    def training_step(self, batch, batch_idx):\n",
    "        image, label = batch\n",
    "        image = image.to(self.device, dtype=torch.float)\n",
    "        label = label.to(self.device, dtype=torch.float)\n",
    "        \n",
    "        pred = self.forward(image)\n",
    "\n",
    "        loss = self.loss(pred, label)\n",
    "                \n",
    "        tensorboard_logs = {\n",
    "            \"train_loss\" : loss\n",
    "        }\n",
    "        \n",
    "        return {\"loss\" : loss, \"log\" : tensorboard_logs}\n",
    "    \n",
    "    def validation_step(self, batch, batch_idx):\n",
    "        image, label = batch\n",
    "        image = image.to(self.device, dtype=torch.float)\n",
    "        label = label.to(self.device, dtype=torch.float)\n",
    "        \n",
    "        pred = self.forward(image)\n",
    "\n",
    "        loss = self.loss(pred, label)\n",
    "        \n",
    "        rmsle = RMSE(pred, label)\n",
    "\n",
    "        tensorboard_logs = {\n",
    "            \"val_loss\" : loss,\n",
    "            \"val_rmsle\" : rmsle\n",
    "        }\n",
    "        \n",
    "        return {\"val_loss\" : loss, \"log\" : tensorboard_logs}\n",
    "    \n",
    "    def validation_epoch_end(self, outputs):\n",
    "        avg_loss = torch.stack([x[\"val_loss\"] for x in outputs]).mean()\n",
    "        avg_rmsle = torch.stack([x[\"log\"][\"val_rmsle\"] for x in outputs]).mean()\n",
    "        \n",
    "        self.checkpoint(avg_loss.item(), self.model)\n",
    "        \n",
    "        tensorboard_logs = {\n",
    "            \"val_loss\" : avg_loss, \n",
    "            \"val_rmsle\" : avg_rmsle\n",
    "        }\n",
    "        progress_bar = {\n",
    "            \"val_loss\" : avg_loss,\n",
    "            \"val_rmsle\" : avg_rmsle\n",
    "        }\n",
    "        \n",
    "        return {\"avg_val_loss\" : avg_loss, \"log\" : tensorboard_logs, \"progress_bar\" : progress_bar}\n",
    "    \n",
    "    def configure_optimizers(self):\n",
    "        optimizer = torch.optim.Adam(self.parameters(), lr=self.learning_rate)\n",
    "        \n",
    "        return optimizer\n",
    "    \n",
    "    @pl.data_loader\n",
    "    def train_dataloader(self):\n",
    "        train_dataset = EfficientNetDataset(\n",
    "            dataset = self.train_dataset, \n",
    "            series = self.train_series,\n",
    "            transform = EfficientNetTransform(self.input_size)\n",
    "        )\n",
    "        \n",
    "        train_loader = DataLoader(\n",
    "            train_dataset, \n",
    "            shuffle = True, \n",
    "            batch_size = self.batch_size,\n",
    "            num_workers = self.num_workers\n",
    "        )\n",
    "        \n",
    "        return train_loader\n",
    "    \n",
    "    @pl.data_loader\n",
    "    def val_dataloader(self):\n",
    "        val_dataset = EfficientNetDataset(\n",
    "            dataset = self.val_dataset, \n",
    "            phase=\"val\", \n",
    "            series = self.val_series, \n",
    "            transform = EfficientNetTransform(self.input_size)\n",
    "        )\n",
    "        val_loader = DataLoader(\n",
    "            val_dataset, \n",
    "            batch_size = self.batch_size, \n",
    "            num_workers = self.num_workers\n",
    "        )\n",
    "        \n",
    "        return val_loader\n",
    "    "
   ]
  },
  {
   "cell_type": "code",
   "execution_count": 5,
   "metadata": {},
   "outputs": [],
   "source": [
    "train_path = Path(\"thumbnail/train\")"
   ]
  },
  {
   "cell_type": "code",
   "execution_count": 6,
   "metadata": {},
   "outputs": [],
   "source": [
    "dataset = np.array([str(x) for x in sorted(train_path.glob(\"image*\"))])\n",
    "series = np.array(np.log(train[\"y\"] + 1))\n",
    "\n",
    "idx = list(range(len(series)))\n",
    "random.shuffle(idx)\n",
    "\n",
    "val_size = 0.3\n",
    "threshold = int(len(series) * 0.3)\n",
    "train_dataset = dataset[idx][threshold : :]\n",
    "val_dataset = dataset[idx][ : threshold]\n",
    "train_series = series[idx][threshold : ]\n",
    "val_series = series[idx][ : threshold]"
   ]
  },
  {
   "cell_type": "code",
   "execution_count": 7,
   "metadata": {},
   "outputs": [
    {
     "name": "stdout",
     "output_type": "stream",
     "text": [
      "Loaded pretrained weights for efficientnet-b7\n"
     ]
    },
    {
     "name": "stderr",
     "output_type": "stream",
     "text": [
      "/home/vmlab/.local/lib/python3.6/site-packages/torch/nn/_reduction.py:43: UserWarning: size_average and reduce args will be deprecated, please use reduction='sum' instead.\n",
      "  warnings.warn(warning.format(ret))\n",
      "INFO:lightning:CometLogger will be initialized in online mode\n",
      "COMET INFO: old comet version (3.1.8) detected. current: 3.1.9 please update your comet lib with command: `pip install --no-cache-dir --upgrade comet_ml`\n",
      "COMET INFO: Experiment is live on comet.ml https://www.comet.ml/t-rryyyoooo/youtube/df11c26a160a476d8e47f7e3b66a9ac4\n",
      "\n",
      "INFO:lightning:GPU available: True, used: True\n",
      "INFO:lightning:VISIBLE GPUS: 0,1\n",
      "INFO:lightning:\n",
      "    | Name                                                  | Type                    | Params\n",
      "----------------------------------------------------------------------------------------------\n",
      "0   | model                                                 | EfficientNetModel       | 63 M  \n",
      "1   | model.model                                           | EfficientNet            | 63 M  \n",
      "2   | model.model._conv_stem                                | Conv2dStaticSamePadding | 1 K   \n",
      "3   | model.model._conv_stem.static_padding                 | ZeroPad2d               | 0     \n",
      "4   | model.model._bn0                                      | BatchNorm2d             | 128   \n",
      "5   | model.model._blocks                                   | ModuleList              | 62 M  \n",
      "6   | model.model._blocks.0                                 | MBConvBlock             | 4 K   \n",
      "7   | model.model._blocks.0._depthwise_conv                 | Conv2dStaticSamePadding | 576   \n",
      "8   | model.model._blocks.0._depthwise_conv.static_padding  | ZeroPad2d               | 0     \n",
      "9   | model.model._blocks.0._bn1                            | BatchNorm2d             | 128   \n",
      "10  | model.model._blocks.0._se_reduce                      | Conv2dStaticSamePadding | 1 K   \n",
      "11  | model.model._blocks.0._se_reduce.static_padding       | Identity                | 0     \n",
      "12  | model.model._blocks.0._se_expand                      | Conv2dStaticSamePadding | 1 K   \n",
      "13  | model.model._blocks.0._se_expand.static_padding       | Identity                | 0     \n",
      "14  | model.model._blocks.0._project_conv                   | Conv2dStaticSamePadding | 2 K   \n",
      "15  | model.model._blocks.0._project_conv.static_padding    | Identity                | 0     \n",
      "16  | model.model._blocks.0._bn2                            | BatchNorm2d             | 64    \n",
      "17  | model.model._blocks.0._swish                          | MemoryEfficientSwish    | 0     \n",
      "18  | model.model._blocks.1                                 | MBConvBlock             | 1 K   \n",
      "19  | model.model._blocks.1._depthwise_conv                 | Conv2dStaticSamePadding | 288   \n",
      "20  | model.model._blocks.1._depthwise_conv.static_padding  | ZeroPad2d               | 0     \n",
      "21  | model.model._blocks.1._bn1                            | BatchNorm2d             | 64    \n",
      "22  | model.model._blocks.1._se_reduce                      | Conv2dStaticSamePadding | 264   \n",
      "23  | model.model._blocks.1._se_reduce.static_padding       | Identity                | 0     \n",
      "24  | model.model._blocks.1._se_expand                      | Conv2dStaticSamePadding | 288   \n",
      "25  | model.model._blocks.1._se_expand.static_padding       | Identity                | 0     \n",
      "26  | model.model._blocks.1._project_conv                   | Conv2dStaticSamePadding | 1 K   \n",
      "27  | model.model._blocks.1._project_conv.static_padding    | Identity                | 0     \n",
      "28  | model.model._blocks.1._bn2                            | BatchNorm2d             | 64    \n",
      "29  | model.model._blocks.1._swish                          | MemoryEfficientSwish    | 0     \n",
      "30  | model.model._blocks.2                                 | MBConvBlock             | 1 K   \n",
      "31  | model.model._blocks.2._depthwise_conv                 | Conv2dStaticSamePadding | 288   \n",
      "32  | model.model._blocks.2._depthwise_conv.static_padding  | ZeroPad2d               | 0     \n",
      "33  | model.model._blocks.2._bn1                            | BatchNorm2d             | 64    \n",
      "34  | model.model._blocks.2._se_reduce                      | Conv2dStaticSamePadding | 264   \n",
      "35  | model.model._blocks.2._se_reduce.static_padding       | Identity                | 0     \n",
      "36  | model.model._blocks.2._se_expand                      | Conv2dStaticSamePadding | 288   \n",
      "37  | model.model._blocks.2._se_expand.static_padding       | Identity                | 0     \n",
      "38  | model.model._blocks.2._project_conv                   | Conv2dStaticSamePadding | 1 K   \n",
      "39  | model.model._blocks.2._project_conv.static_padding    | Identity                | 0     \n",
      "40  | model.model._blocks.2._bn2                            | BatchNorm2d             | 64    \n",
      "41  | model.model._blocks.2._swish                          | MemoryEfficientSwish    | 0     \n",
      "42  | model.model._blocks.3                                 | MBConvBlock             | 1 K   \n",
      "43  | model.model._blocks.3._depthwise_conv                 | Conv2dStaticSamePadding | 288   \n",
      "44  | model.model._blocks.3._depthwise_conv.static_padding  | ZeroPad2d               | 0     \n",
      "45  | model.model._blocks.3._bn1                            | BatchNorm2d             | 64    \n",
      "46  | model.model._blocks.3._se_reduce                      | Conv2dStaticSamePadding | 264   \n",
      "47  | model.model._blocks.3._se_reduce.static_padding       | Identity                | 0     \n",
      "48  | model.model._blocks.3._se_expand                      | Conv2dStaticSamePadding | 288   \n",
      "49  | model.model._blocks.3._se_expand.static_padding       | Identity                | 0     \n",
      "50  | model.model._blocks.3._project_conv                   | Conv2dStaticSamePadding | 1 K   \n",
      "51  | model.model._blocks.3._project_conv.static_padding    | Identity                | 0     \n",
      "52  | model.model._blocks.3._bn2                            | BatchNorm2d             | 64    \n",
      "53  | model.model._blocks.3._swish                          | MemoryEfficientSwish    | 0     \n",
      "54  | model.model._blocks.4                                 | MBConvBlock             | 21 K  \n",
      "55  | model.model._blocks.4._expand_conv                    | Conv2dStaticSamePadding | 6 K   \n",
      "56  | model.model._blocks.4._expand_conv.static_padding     | Identity                | 0     \n",
      "57  | model.model._blocks.4._bn0                            | BatchNorm2d             | 384   \n",
      "58  | model.model._blocks.4._depthwise_conv                 | Conv2dStaticSamePadding | 1 K   \n",
      "59  | model.model._blocks.4._depthwise_conv.static_padding  | ZeroPad2d               | 0     \n",
      "60  | model.model._blocks.4._bn1                            | BatchNorm2d             | 384   \n",
      "61  | model.model._blocks.4._se_reduce                      | Conv2dStaticSamePadding | 1 K   \n",
      "62  | model.model._blocks.4._se_reduce.static_padding       | Identity                | 0     \n",
      "63  | model.model._blocks.4._se_expand                      | Conv2dStaticSamePadding | 1 K   \n",
      "64  | model.model._blocks.4._se_expand.static_padding       | Identity                | 0     \n",
      "65  | model.model._blocks.4._project_conv                   | Conv2dStaticSamePadding | 9 K   \n",
      "66  | model.model._blocks.4._project_conv.static_padding    | Identity                | 0     \n",
      "67  | model.model._blocks.4._bn2                            | BatchNorm2d             | 96    \n",
      "68  | model.model._blocks.4._swish                          | MemoryEfficientSwish    | 0     \n",
      "69  | model.model._blocks.5                                 | MBConvBlock             | 38 K  \n",
      "70  | model.model._blocks.5._expand_conv                    | Conv2dStaticSamePadding | 13 K  \n",
      "71  | model.model._blocks.5._expand_conv.static_padding     | Identity                | 0     \n",
      "72  | model.model._blocks.5._bn0                            | BatchNorm2d             | 576   \n",
      "73  | model.model._blocks.5._depthwise_conv                 | Conv2dStaticSamePadding | 2 K   \n",
      "74  | model.model._blocks.5._depthwise_conv.static_padding  | ZeroPad2d               | 0     \n",
      "75  | model.model._blocks.5._bn1                            | BatchNorm2d             | 576   \n",
      "76  | model.model._blocks.5._se_reduce                      | Conv2dStaticSamePadding | 3 K   \n",
      "77  | model.model._blocks.5._se_reduce.static_padding       | Identity                | 0     \n",
      "78  | model.model._blocks.5._se_expand                      | Conv2dStaticSamePadding | 3 K   \n",
      "79  | model.model._blocks.5._se_expand.static_padding       | Identity                | 0     \n",
      "80  | model.model._blocks.5._project_conv                   | Conv2dStaticSamePadding | 13 K  \n",
      "81  | model.model._blocks.5._project_conv.static_padding    | Identity                | 0     \n",
      "82  | model.model._blocks.5._bn2                            | BatchNorm2d             | 96    \n",
      "83  | model.model._blocks.5._swish                          | MemoryEfficientSwish    | 0     \n",
      "84  | model.model._blocks.6                                 | MBConvBlock             | 38 K  \n",
      "85  | model.model._blocks.6._expand_conv                    | Conv2dStaticSamePadding | 13 K  \n",
      "86  | model.model._blocks.6._expand_conv.static_padding     | Identity                | 0     \n",
      "87  | model.model._blocks.6._bn0                            | BatchNorm2d             | 576   \n",
      "88  | model.model._blocks.6._depthwise_conv                 | Conv2dStaticSamePadding | 2 K   \n",
      "89  | model.model._blocks.6._depthwise_conv.static_padding  | ZeroPad2d               | 0     \n",
      "90  | model.model._blocks.6._bn1                            | BatchNorm2d             | 576   \n",
      "91  | model.model._blocks.6._se_reduce                      | Conv2dStaticSamePadding | 3 K   \n",
      "92  | model.model._blocks.6._se_reduce.static_padding       | Identity                | 0     \n",
      "93  | model.model._blocks.6._se_expand                      | Conv2dStaticSamePadding | 3 K   \n",
      "94  | model.model._blocks.6._se_expand.static_padding       | Identity                | 0     \n",
      "95  | model.model._blocks.6._project_conv                   | Conv2dStaticSamePadding | 13 K  \n",
      "96  | model.model._blocks.6._project_conv.static_padding    | Identity                | 0     \n",
      "97  | model.model._blocks.6._bn2                            | BatchNorm2d             | 96    \n",
      "98  | model.model._blocks.6._swish                          | MemoryEfficientSwish    | 0     \n",
      "99  | model.model._blocks.7                                 | MBConvBlock             | 38 K  \n",
      "100 | model.model._blocks.7._expand_conv                    | Conv2dStaticSamePadding | 13 K  \n",
      "101 | model.model._blocks.7._expand_conv.static_padding     | Identity                | 0     \n",
      "102 | model.model._blocks.7._bn0                            | BatchNorm2d             | 576   \n",
      "103 | model.model._blocks.7._depthwise_conv                 | Conv2dStaticSamePadding | 2 K   \n",
      "104 | model.model._blocks.7._depthwise_conv.static_padding  | ZeroPad2d               | 0     \n",
      "105 | model.model._blocks.7._bn1                            | BatchNorm2d             | 576   \n",
      "106 | model.model._blocks.7._se_reduce                      | Conv2dStaticSamePadding | 3 K   \n",
      "107 | model.model._blocks.7._se_reduce.static_padding       | Identity                | 0     \n",
      "108 | model.model._blocks.7._se_expand                      | Conv2dStaticSamePadding | 3 K   \n",
      "109 | model.model._blocks.7._se_expand.static_padding       | Identity                | 0     \n",
      "110 | model.model._blocks.7._project_conv                   | Conv2dStaticSamePadding | 13 K  \n",
      "111 | model.model._blocks.7._project_conv.static_padding    | Identity                | 0     \n",
      "112 | model.model._blocks.7._bn2                            | BatchNorm2d             | 96    \n",
      "113 | model.model._blocks.7._swish                          | MemoryEfficientSwish    | 0     \n",
      "114 | model.model._blocks.8                                 | MBConvBlock             | 38 K  \n",
      "115 | model.model._blocks.8._expand_conv                    | Conv2dStaticSamePadding | 13 K  \n",
      "116 | model.model._blocks.8._expand_conv.static_padding     | Identity                | 0     \n",
      "117 | model.model._blocks.8._bn0                            | BatchNorm2d             | 576   \n",
      "118 | model.model._blocks.8._depthwise_conv                 | Conv2dStaticSamePadding | 2 K   \n",
      "119 | model.model._blocks.8._depthwise_conv.static_padding  | ZeroPad2d               | 0     \n",
      "120 | model.model._blocks.8._bn1                            | BatchNorm2d             | 576   \n",
      "121 | model.model._blocks.8._se_reduce                      | Conv2dStaticSamePadding | 3 K   \n",
      "122 | model.model._blocks.8._se_reduce.static_padding       | Identity                | 0     \n",
      "123 | model.model._blocks.8._se_expand                      | Conv2dStaticSamePadding | 3 K   \n",
      "124 | model.model._blocks.8._se_expand.static_padding       | Identity                | 0     \n",
      "125 | model.model._blocks.8._project_conv                   | Conv2dStaticSamePadding | 13 K  \n",
      "126 | model.model._blocks.8._project_conv.static_padding    | Identity                | 0     \n",
      "127 | model.model._blocks.8._bn2                            | BatchNorm2d             | 96    \n",
      "128 | model.model._blocks.8._swish                          | MemoryEfficientSwish    | 0     \n",
      "129 | model.model._blocks.9                                 | MBConvBlock             | 38 K  \n",
      "130 | model.model._blocks.9._expand_conv                    | Conv2dStaticSamePadding | 13 K  \n",
      "131 | model.model._blocks.9._expand_conv.static_padding     | Identity                | 0     \n",
      "132 | model.model._blocks.9._bn0                            | BatchNorm2d             | 576   \n",
      "133 | model.model._blocks.9._depthwise_conv                 | Conv2dStaticSamePadding | 2 K   \n",
      "134 | model.model._blocks.9._depthwise_conv.static_padding  | ZeroPad2d               | 0     \n",
      "135 | model.model._blocks.9._bn1                            | BatchNorm2d             | 576   \n",
      "136 | model.model._blocks.9._se_reduce                      | Conv2dStaticSamePadding | 3 K   \n",
      "137 | model.model._blocks.9._se_reduce.static_padding       | Identity                | 0     \n",
      "138 | model.model._blocks.9._se_expand                      | Conv2dStaticSamePadding | 3 K   \n",
      "139 | model.model._blocks.9._se_expand.static_padding       | Identity                | 0     \n",
      "140 | model.model._blocks.9._project_conv                   | Conv2dStaticSamePadding | 13 K  \n",
      "141 | model.model._blocks.9._project_conv.static_padding    | Identity                | 0     \n",
      "142 | model.model._blocks.9._bn2                            | BatchNorm2d             | 96    \n",
      "143 | model.model._blocks.9._swish                          | MemoryEfficientSwish    | 0     \n",
      "144 | model.model._blocks.10                                | MBConvBlock             | 38 K  \n",
      "145 | model.model._blocks.10._expand_conv                   | Conv2dStaticSamePadding | 13 K  \n",
      "146 | model.model._blocks.10._expand_conv.static_padding    | Identity                | 0     \n",
      "147 | model.model._blocks.10._bn0                           | BatchNorm2d             | 576   \n",
      "148 | model.model._blocks.10._depthwise_conv                | Conv2dStaticSamePadding | 2 K   \n",
      "149 | model.model._blocks.10._depthwise_conv.static_padding | ZeroPad2d               | 0     \n",
      "150 | model.model._blocks.10._bn1                           | BatchNorm2d             | 576   \n",
      "151 | model.model._blocks.10._se_reduce                     | Conv2dStaticSamePadding | 3 K   \n",
      "152 | model.model._blocks.10._se_reduce.static_padding      | Identity                | 0     \n",
      "153 | model.model._blocks.10._se_expand                     | Conv2dStaticSamePadding | 3 K   \n",
      "154 | model.model._blocks.10._se_expand.static_padding      | Identity                | 0     \n",
      "155 | model.model._blocks.10._project_conv                  | Conv2dStaticSamePadding | 13 K  \n",
      "156 | model.model._blocks.10._project_conv.static_padding   | Identity                | 0     \n",
      "157 | model.model._blocks.10._bn2                           | BatchNorm2d             | 96    \n",
      "158 | model.model._blocks.10._swish                         | MemoryEfficientSwish    | 0     \n",
      "159 | model.model._blocks.11                                | MBConvBlock             | 52 K  \n",
      "160 | model.model._blocks.11._expand_conv                   | Conv2dStaticSamePadding | 13 K  \n",
      "161 | model.model._blocks.11._expand_conv.static_padding    | Identity                | 0     \n",
      "162 | model.model._blocks.11._bn0                           | BatchNorm2d             | 576   \n",
      "163 | model.model._blocks.11._depthwise_conv                | Conv2dStaticSamePadding | 7 K   \n",
      "164 | model.model._blocks.11._depthwise_conv.static_padding | ZeroPad2d               | 0     \n",
      "165 | model.model._blocks.11._bn1                           | BatchNorm2d             | 576   \n",
      "166 | model.model._blocks.11._se_reduce                     | Conv2dStaticSamePadding | 3 K   \n",
      "167 | model.model._blocks.11._se_reduce.static_padding      | Identity                | 0     \n",
      "168 | model.model._blocks.11._se_expand                     | Conv2dStaticSamePadding | 3 K   \n",
      "169 | model.model._blocks.11._se_expand.static_padding      | Identity                | 0     \n",
      "170 | model.model._blocks.11._project_conv                  | Conv2dStaticSamePadding | 23 K  \n",
      "171 | model.model._blocks.11._project_conv.static_padding   | Identity                | 0     \n",
      "172 | model.model._blocks.11._bn2                           | BatchNorm2d             | 160   \n",
      "173 | model.model._blocks.11._swish                         | MemoryEfficientSwish    | 0     \n",
      "174 | model.model._blocks.12                                | MBConvBlock             | 110 K \n",
      "175 | model.model._blocks.12._expand_conv                   | Conv2dStaticSamePadding | 38 K  \n",
      "176 | model.model._blocks.12._expand_conv.static_padding    | Identity                | 0     \n",
      "177 | model.model._blocks.12._bn0                           | BatchNorm2d             | 960   \n",
      "178 | model.model._blocks.12._depthwise_conv                | Conv2dStaticSamePadding | 12 K  \n",
      "179 | model.model._blocks.12._depthwise_conv.static_padding | ZeroPad2d               | 0     \n",
      "180 | model.model._blocks.12._bn1                           | BatchNorm2d             | 960   \n",
      "181 | model.model._blocks.12._se_reduce                     | Conv2dStaticSamePadding | 9 K   \n",
      "182 | model.model._blocks.12._se_reduce.static_padding      | Identity                | 0     \n",
      "183 | model.model._blocks.12._se_expand                     | Conv2dStaticSamePadding | 10 K  \n",
      "184 | model.model._blocks.12._se_expand.static_padding      | Identity                | 0     \n",
      "185 | model.model._blocks.12._project_conv                  | Conv2dStaticSamePadding | 38 K  \n",
      "186 | model.model._blocks.12._project_conv.static_padding   | Identity                | 0     \n",
      "187 | model.model._blocks.12._bn2                           | BatchNorm2d             | 160   \n",
      "188 | model.model._blocks.12._swish                         | MemoryEfficientSwish    | 0     \n",
      "189 | model.model._blocks.13                                | MBConvBlock             | 110 K \n",
      "190 | model.model._blocks.13._expand_conv                   | Conv2dStaticSamePadding | 38 K  \n",
      "191 | model.model._blocks.13._expand_conv.static_padding    | Identity                | 0     \n",
      "192 | model.model._blocks.13._bn0                           | BatchNorm2d             | 960   \n",
      "193 | model.model._blocks.13._depthwise_conv                | Conv2dStaticSamePadding | 12 K  \n",
      "194 | model.model._blocks.13._depthwise_conv.static_padding | ZeroPad2d               | 0     \n",
      "195 | model.model._blocks.13._bn1                           | BatchNorm2d             | 960   \n",
      "196 | model.model._blocks.13._se_reduce                     | Conv2dStaticSamePadding | 9 K   \n",
      "197 | model.model._blocks.13._se_reduce.static_padding      | Identity                | 0     \n",
      "198 | model.model._blocks.13._se_expand                     | Conv2dStaticSamePadding | 10 K  \n",
      "199 | model.model._blocks.13._se_expand.static_padding      | Identity                | 0     \n",
      "200 | model.model._blocks.13._project_conv                  | Conv2dStaticSamePadding | 38 K  \n",
      "201 | model.model._blocks.13._project_conv.static_padding   | Identity                | 0     \n",
      "202 | model.model._blocks.13._bn2                           | BatchNorm2d             | 160   \n",
      "203 | model.model._blocks.13._swish                         | MemoryEfficientSwish    | 0     \n",
      "204 | model.model._blocks.14                                | MBConvBlock             | 110 K \n",
      "205 | model.model._blocks.14._expand_conv                   | Conv2dStaticSamePadding | 38 K  \n",
      "206 | model.model._blocks.14._expand_conv.static_padding    | Identity                | 0     \n",
      "207 | model.model._blocks.14._bn0                           | BatchNorm2d             | 960   \n",
      "208 | model.model._blocks.14._depthwise_conv                | Conv2dStaticSamePadding | 12 K  \n",
      "209 | model.model._blocks.14._depthwise_conv.static_padding | ZeroPad2d               | 0     \n",
      "210 | model.model._blocks.14._bn1                           | BatchNorm2d             | 960   \n",
      "211 | model.model._blocks.14._se_reduce                     | Conv2dStaticSamePadding | 9 K   \n",
      "212 | model.model._blocks.14._se_reduce.static_padding      | Identity                | 0     \n",
      "213 | model.model._blocks.14._se_expand                     | Conv2dStaticSamePadding | 10 K  \n",
      "214 | model.model._blocks.14._se_expand.static_padding      | Identity                | 0     \n",
      "215 | model.model._blocks.14._project_conv                  | Conv2dStaticSamePadding | 38 K  \n",
      "216 | model.model._blocks.14._project_conv.static_padding   | Identity                | 0     \n",
      "217 | model.model._blocks.14._bn2                           | BatchNorm2d             | 160   \n",
      "218 | model.model._blocks.14._swish                         | MemoryEfficientSwish    | 0     \n",
      "219 | model.model._blocks.15                                | MBConvBlock             | 110 K \n",
      "220 | model.model._blocks.15._expand_conv                   | Conv2dStaticSamePadding | 38 K  \n",
      "221 | model.model._blocks.15._expand_conv.static_padding    | Identity                | 0     \n",
      "222 | model.model._blocks.15._bn0                           | BatchNorm2d             | 960   \n",
      "223 | model.model._blocks.15._depthwise_conv                | Conv2dStaticSamePadding | 12 K  \n",
      "224 | model.model._blocks.15._depthwise_conv.static_padding | ZeroPad2d               | 0     \n",
      "225 | model.model._blocks.15._bn1                           | BatchNorm2d             | 960   \n",
      "226 | model.model._blocks.15._se_reduce                     | Conv2dStaticSamePadding | 9 K   \n",
      "227 | model.model._blocks.15._se_reduce.static_padding      | Identity                | 0     \n",
      "228 | model.model._blocks.15._se_expand                     | Conv2dStaticSamePadding | 10 K  \n",
      "229 | model.model._blocks.15._se_expand.static_padding      | Identity                | 0     \n",
      "230 | model.model._blocks.15._project_conv                  | Conv2dStaticSamePadding | 38 K  \n",
      "231 | model.model._blocks.15._project_conv.static_padding   | Identity                | 0     \n",
      "232 | model.model._blocks.15._bn2                           | BatchNorm2d             | 160   \n",
      "233 | model.model._blocks.15._swish                         | MemoryEfficientSwish    | 0     \n",
      "234 | model.model._blocks.16                                | MBConvBlock             | 110 K \n",
      "235 | model.model._blocks.16._expand_conv                   | Conv2dStaticSamePadding | 38 K  \n",
      "236 | model.model._blocks.16._expand_conv.static_padding    | Identity                | 0     \n",
      "237 | model.model._blocks.16._bn0                           | BatchNorm2d             | 960   \n",
      "238 | model.model._blocks.16._depthwise_conv                | Conv2dStaticSamePadding | 12 K  \n",
      "239 | model.model._blocks.16._depthwise_conv.static_padding | ZeroPad2d               | 0     \n",
      "240 | model.model._blocks.16._bn1                           | BatchNorm2d             | 960   \n",
      "241 | model.model._blocks.16._se_reduce                     | Conv2dStaticSamePadding | 9 K   \n",
      "242 | model.model._blocks.16._se_reduce.static_padding      | Identity                | 0     \n",
      "243 | model.model._blocks.16._se_expand                     | Conv2dStaticSamePadding | 10 K  \n",
      "244 | model.model._blocks.16._se_expand.static_padding      | Identity                | 0     \n",
      "245 | model.model._blocks.16._project_conv                  | Conv2dStaticSamePadding | 38 K  \n",
      "246 | model.model._blocks.16._project_conv.static_padding   | Identity                | 0     \n",
      "247 | model.model._blocks.16._bn2                           | BatchNorm2d             | 160   \n",
      "248 | model.model._blocks.16._swish                         | MemoryEfficientSwish    | 0     \n",
      "249 | model.model._blocks.17                                | MBConvBlock             | 110 K \n",
      "250 | model.model._blocks.17._expand_conv                   | Conv2dStaticSamePadding | 38 K  \n",
      "251 | model.model._blocks.17._expand_conv.static_padding    | Identity                | 0     \n",
      "252 | model.model._blocks.17._bn0                           | BatchNorm2d             | 960   \n",
      "253 | model.model._blocks.17._depthwise_conv                | Conv2dStaticSamePadding | 12 K  \n",
      "254 | model.model._blocks.17._depthwise_conv.static_padding | ZeroPad2d               | 0     \n",
      "255 | model.model._blocks.17._bn1                           | BatchNorm2d             | 960   \n",
      "256 | model.model._blocks.17._se_reduce                     | Conv2dStaticSamePadding | 9 K   \n",
      "257 | model.model._blocks.17._se_reduce.static_padding      | Identity                | 0     \n",
      "258 | model.model._blocks.17._se_expand                     | Conv2dStaticSamePadding | 10 K  \n",
      "259 | model.model._blocks.17._se_expand.static_padding      | Identity                | 0     \n",
      "260 | model.model._blocks.17._project_conv                  | Conv2dStaticSamePadding | 38 K  \n",
      "261 | model.model._blocks.17._project_conv.static_padding   | Identity                | 0     \n",
      "262 | model.model._blocks.17._bn2                           | BatchNorm2d             | 160   \n",
      "263 | model.model._blocks.17._swish                         | MemoryEfficientSwish    | 0     \n",
      "264 | model.model._blocks.18                                | MBConvBlock             | 141 K \n",
      "265 | model.model._blocks.18._expand_conv                   | Conv2dStaticSamePadding | 38 K  \n",
      "266 | model.model._blocks.18._expand_conv.static_padding    | Identity                | 0     \n",
      "267 | model.model._blocks.18._bn0                           | BatchNorm2d             | 960   \n",
      "268 | model.model._blocks.18._depthwise_conv                | Conv2dStaticSamePadding | 4 K   \n",
      "269 | model.model._blocks.18._depthwise_conv.static_padding | ZeroPad2d               | 0     \n",
      "270 | model.model._blocks.18._bn1                           | BatchNorm2d             | 960   \n",
      "271 | model.model._blocks.18._se_reduce                     | Conv2dStaticSamePadding | 9 K   \n",
      "272 | model.model._blocks.18._se_reduce.static_padding      | Identity                | 0     \n",
      "273 | model.model._blocks.18._se_expand                     | Conv2dStaticSamePadding | 10 K  \n",
      "274 | model.model._blocks.18._se_expand.static_padding      | Identity                | 0     \n",
      "275 | model.model._blocks.18._project_conv                  | Conv2dStaticSamePadding | 76 K  \n",
      "276 | model.model._blocks.18._project_conv.static_padding   | Identity                | 0     \n",
      "277 | model.model._blocks.18._bn2                           | BatchNorm2d             | 320   \n",
      "278 | model.model._blocks.18._swish                         | MemoryEfficientSwish    | 0     \n",
      "279 | model.model._blocks.19                                | MBConvBlock             | 397 K \n",
      "280 | model.model._blocks.19._expand_conv                   | Conv2dStaticSamePadding | 153 K \n",
      "281 | model.model._blocks.19._expand_conv.static_padding    | Identity                | 0     \n",
      "282 | model.model._blocks.19._bn0                           | BatchNorm2d             | 1 K   \n",
      "283 | model.model._blocks.19._depthwise_conv                | Conv2dStaticSamePadding | 8 K   \n",
      "284 | model.model._blocks.19._depthwise_conv.static_padding | ZeroPad2d               | 0     \n",
      "285 | model.model._blocks.19._bn1                           | BatchNorm2d             | 1 K   \n",
      "286 | model.model._blocks.19._se_reduce                     | Conv2dStaticSamePadding | 38 K  \n",
      "287 | model.model._blocks.19._se_reduce.static_padding      | Identity                | 0     \n",
      "288 | model.model._blocks.19._se_expand                     | Conv2dStaticSamePadding | 39 K  \n",
      "289 | model.model._blocks.19._se_expand.static_padding      | Identity                | 0     \n",
      "290 | model.model._blocks.19._project_conv                  | Conv2dStaticSamePadding | 153 K \n",
      "291 | model.model._blocks.19._project_conv.static_padding   | Identity                | 0     \n",
      "292 | model.model._blocks.19._bn2                           | BatchNorm2d             | 320   \n",
      "293 | model.model._blocks.19._swish                         | MemoryEfficientSwish    | 0     \n",
      "294 | model.model._blocks.20                                | MBConvBlock             | 397 K \n",
      "295 | model.model._blocks.20._expand_conv                   | Conv2dStaticSamePadding | 153 K \n",
      "296 | model.model._blocks.20._expand_conv.static_padding    | Identity                | 0     \n",
      "297 | model.model._blocks.20._bn0                           | BatchNorm2d             | 1 K   \n",
      "298 | model.model._blocks.20._depthwise_conv                | Conv2dStaticSamePadding | 8 K   \n",
      "299 | model.model._blocks.20._depthwise_conv.static_padding | ZeroPad2d               | 0     \n",
      "300 | model.model._blocks.20._bn1                           | BatchNorm2d             | 1 K   \n",
      "301 | model.model._blocks.20._se_reduce                     | Conv2dStaticSamePadding | 38 K  \n",
      "302 | model.model._blocks.20._se_reduce.static_padding      | Identity                | 0     \n",
      "303 | model.model._blocks.20._se_expand                     | Conv2dStaticSamePadding | 39 K  \n",
      "304 | model.model._blocks.20._se_expand.static_padding      | Identity                | 0     \n",
      "305 | model.model._blocks.20._project_conv                  | Conv2dStaticSamePadding | 153 K \n",
      "306 | model.model._blocks.20._project_conv.static_padding   | Identity                | 0     \n",
      "307 | model.model._blocks.20._bn2                           | BatchNorm2d             | 320   \n",
      "308 | model.model._blocks.20._swish                         | MemoryEfficientSwish    | 0     \n",
      "309 | model.model._blocks.21                                | MBConvBlock             | 397 K \n",
      "310 | model.model._blocks.21._expand_conv                   | Conv2dStaticSamePadding | 153 K \n",
      "311 | model.model._blocks.21._expand_conv.static_padding    | Identity                | 0     \n",
      "312 | model.model._blocks.21._bn0                           | BatchNorm2d             | 1 K   \n",
      "313 | model.model._blocks.21._depthwise_conv                | Conv2dStaticSamePadding | 8 K   \n",
      "314 | model.model._blocks.21._depthwise_conv.static_padding | ZeroPad2d               | 0     \n",
      "315 | model.model._blocks.21._bn1                           | BatchNorm2d             | 1 K   \n",
      "316 | model.model._blocks.21._se_reduce                     | Conv2dStaticSamePadding | 38 K  \n",
      "317 | model.model._blocks.21._se_reduce.static_padding      | Identity                | 0     \n",
      "318 | model.model._blocks.21._se_expand                     | Conv2dStaticSamePadding | 39 K  \n",
      "319 | model.model._blocks.21._se_expand.static_padding      | Identity                | 0     \n",
      "320 | model.model._blocks.21._project_conv                  | Conv2dStaticSamePadding | 153 K \n",
      "321 | model.model._blocks.21._project_conv.static_padding   | Identity                | 0     \n",
      "322 | model.model._blocks.21._bn2                           | BatchNorm2d             | 320   \n",
      "323 | model.model._blocks.21._swish                         | MemoryEfficientSwish    | 0     \n",
      "324 | model.model._blocks.22                                | MBConvBlock             | 397 K \n",
      "325 | model.model._blocks.22._expand_conv                   | Conv2dStaticSamePadding | 153 K \n",
      "326 | model.model._blocks.22._expand_conv.static_padding    | Identity                | 0     \n",
      "327 | model.model._blocks.22._bn0                           | BatchNorm2d             | 1 K   \n",
      "328 | model.model._blocks.22._depthwise_conv                | Conv2dStaticSamePadding | 8 K   \n",
      "329 | model.model._blocks.22._depthwise_conv.static_padding | ZeroPad2d               | 0     \n",
      "330 | model.model._blocks.22._bn1                           | BatchNorm2d             | 1 K   \n",
      "331 | model.model._blocks.22._se_reduce                     | Conv2dStaticSamePadding | 38 K  \n",
      "332 | model.model._blocks.22._se_reduce.static_padding      | Identity                | 0     \n",
      "333 | model.model._blocks.22._se_expand                     | Conv2dStaticSamePadding | 39 K  \n",
      "334 | model.model._blocks.22._se_expand.static_padding      | Identity                | 0     \n",
      "335 | model.model._blocks.22._project_conv                  | Conv2dStaticSamePadding | 153 K \n",
      "336 | model.model._blocks.22._project_conv.static_padding   | Identity                | 0     \n",
      "337 | model.model._blocks.22._bn2                           | BatchNorm2d             | 320   \n",
      "338 | model.model._blocks.22._swish                         | MemoryEfficientSwish    | 0     \n",
      "339 | model.model._blocks.23                                | MBConvBlock             | 397 K \n",
      "340 | model.model._blocks.23._expand_conv                   | Conv2dStaticSamePadding | 153 K \n",
      "341 | model.model._blocks.23._expand_conv.static_padding    | Identity                | 0     \n",
      "342 | model.model._blocks.23._bn0                           | BatchNorm2d             | 1 K   \n",
      "343 | model.model._blocks.23._depthwise_conv                | Conv2dStaticSamePadding | 8 K   \n",
      "344 | model.model._blocks.23._depthwise_conv.static_padding | ZeroPad2d               | 0     \n",
      "345 | model.model._blocks.23._bn1                           | BatchNorm2d             | 1 K   \n",
      "346 | model.model._blocks.23._se_reduce                     | Conv2dStaticSamePadding | 38 K  \n",
      "347 | model.model._blocks.23._se_reduce.static_padding      | Identity                | 0     \n",
      "348 | model.model._blocks.23._se_expand                     | Conv2dStaticSamePadding | 39 K  \n",
      "349 | model.model._blocks.23._se_expand.static_padding      | Identity                | 0     \n",
      "350 | model.model._blocks.23._project_conv                  | Conv2dStaticSamePadding | 153 K \n",
      "351 | model.model._blocks.23._project_conv.static_padding   | Identity                | 0     \n",
      "352 | model.model._blocks.23._bn2                           | BatchNorm2d             | 320   \n",
      "353 | model.model._blocks.23._swish                         | MemoryEfficientSwish    | 0     \n",
      "354 | model.model._blocks.24                                | MBConvBlock             | 397 K \n",
      "355 | model.model._blocks.24._expand_conv                   | Conv2dStaticSamePadding | 153 K \n",
      "356 | model.model._blocks.24._expand_conv.static_padding    | Identity                | 0     \n",
      "357 | model.model._blocks.24._bn0                           | BatchNorm2d             | 1 K   \n",
      "358 | model.model._blocks.24._depthwise_conv                | Conv2dStaticSamePadding | 8 K   \n",
      "359 | model.model._blocks.24._depthwise_conv.static_padding | ZeroPad2d               | 0     \n",
      "360 | model.model._blocks.24._bn1                           | BatchNorm2d             | 1 K   \n",
      "361 | model.model._blocks.24._se_reduce                     | Conv2dStaticSamePadding | 38 K  \n",
      "362 | model.model._blocks.24._se_reduce.static_padding      | Identity                | 0     \n",
      "363 | model.model._blocks.24._se_expand                     | Conv2dStaticSamePadding | 39 K  \n",
      "364 | model.model._blocks.24._se_expand.static_padding      | Identity                | 0     \n",
      "365 | model.model._blocks.24._project_conv                  | Conv2dStaticSamePadding | 153 K \n",
      "366 | model.model._blocks.24._project_conv.static_padding   | Identity                | 0     \n",
      "367 | model.model._blocks.24._bn2                           | BatchNorm2d             | 320   \n",
      "368 | model.model._blocks.24._swish                         | MemoryEfficientSwish    | 0     \n",
      "369 | model.model._blocks.25                                | MBConvBlock             | 397 K \n",
      "370 | model.model._blocks.25._expand_conv                   | Conv2dStaticSamePadding | 153 K \n",
      "371 | model.model._blocks.25._expand_conv.static_padding    | Identity                | 0     \n",
      "372 | model.model._blocks.25._bn0                           | BatchNorm2d             | 1 K   \n",
      "373 | model.model._blocks.25._depthwise_conv                | Conv2dStaticSamePadding | 8 K   \n",
      "374 | model.model._blocks.25._depthwise_conv.static_padding | ZeroPad2d               | 0     \n",
      "375 | model.model._blocks.25._bn1                           | BatchNorm2d             | 1 K   \n",
      "376 | model.model._blocks.25._se_reduce                     | Conv2dStaticSamePadding | 38 K  \n",
      "377 | model.model._blocks.25._se_reduce.static_padding      | Identity                | 0     \n",
      "378 | model.model._blocks.25._se_expand                     | Conv2dStaticSamePadding | 39 K  \n",
      "379 | model.model._blocks.25._se_expand.static_padding      | Identity                | 0     \n",
      "380 | model.model._blocks.25._project_conv                  | Conv2dStaticSamePadding | 153 K \n",
      "381 | model.model._blocks.25._project_conv.static_padding   | Identity                | 0     \n",
      "382 | model.model._blocks.25._bn2                           | BatchNorm2d             | 320   \n",
      "383 | model.model._blocks.25._swish                         | MemoryEfficientSwish    | 0     \n",
      "384 | model.model._blocks.26                                | MBConvBlock             | 397 K \n",
      "385 | model.model._blocks.26._expand_conv                   | Conv2dStaticSamePadding | 153 K \n",
      "386 | model.model._blocks.26._expand_conv.static_padding    | Identity                | 0     \n",
      "387 | model.model._blocks.26._bn0                           | BatchNorm2d             | 1 K   \n",
      "388 | model.model._blocks.26._depthwise_conv                | Conv2dStaticSamePadding | 8 K   \n",
      "389 | model.model._blocks.26._depthwise_conv.static_padding | ZeroPad2d               | 0     \n",
      "390 | model.model._blocks.26._bn1                           | BatchNorm2d             | 1 K   \n",
      "391 | model.model._blocks.26._se_reduce                     | Conv2dStaticSamePadding | 38 K  \n",
      "392 | model.model._blocks.26._se_reduce.static_padding      | Identity                | 0     \n",
      "393 | model.model._blocks.26._se_expand                     | Conv2dStaticSamePadding | 39 K  \n",
      "394 | model.model._blocks.26._se_expand.static_padding      | Identity                | 0     \n",
      "395 | model.model._blocks.26._project_conv                  | Conv2dStaticSamePadding | 153 K \n",
      "396 | model.model._blocks.26._project_conv.static_padding   | Identity                | 0     \n",
      "397 | model.model._blocks.26._bn2                           | BatchNorm2d             | 320   \n",
      "398 | model.model._blocks.26._swish                         | MemoryEfficientSwish    | 0     \n",
      "399 | model.model._blocks.27                                | MBConvBlock             | 397 K \n",
      "400 | model.model._blocks.27._expand_conv                   | Conv2dStaticSamePadding | 153 K \n",
      "401 | model.model._blocks.27._expand_conv.static_padding    | Identity                | 0     \n",
      "402 | model.model._blocks.27._bn0                           | BatchNorm2d             | 1 K   \n",
      "403 | model.model._blocks.27._depthwise_conv                | Conv2dStaticSamePadding | 8 K   \n",
      "404 | model.model._blocks.27._depthwise_conv.static_padding | ZeroPad2d               | 0     \n",
      "405 | model.model._blocks.27._bn1                           | BatchNorm2d             | 1 K   \n",
      "406 | model.model._blocks.27._se_reduce                     | Conv2dStaticSamePadding | 38 K  \n",
      "407 | model.model._blocks.27._se_reduce.static_padding      | Identity                | 0     \n",
      "408 | model.model._blocks.27._se_expand                     | Conv2dStaticSamePadding | 39 K  \n",
      "409 | model.model._blocks.27._se_expand.static_padding      | Identity                | 0     \n",
      "410 | model.model._blocks.27._project_conv                  | Conv2dStaticSamePadding | 153 K \n",
      "411 | model.model._blocks.27._project_conv.static_padding   | Identity                | 0     \n",
      "412 | model.model._blocks.27._bn2                           | BatchNorm2d             | 320   \n",
      "413 | model.model._blocks.27._swish                         | MemoryEfficientSwish    | 0     \n",
      "414 | model.model._blocks.28                                | MBConvBlock             | 474 K \n",
      "415 | model.model._blocks.28._expand_conv                   | Conv2dStaticSamePadding | 153 K \n",
      "416 | model.model._blocks.28._expand_conv.static_padding    | Identity                | 0     \n",
      "417 | model.model._blocks.28._bn0                           | BatchNorm2d             | 1 K   \n",
      "418 | model.model._blocks.28._depthwise_conv                | Conv2dStaticSamePadding | 24 K  \n",
      "419 | model.model._blocks.28._depthwise_conv.static_padding | ZeroPad2d               | 0     \n",
      "420 | model.model._blocks.28._bn1                           | BatchNorm2d             | 1 K   \n",
      "421 | model.model._blocks.28._se_reduce                     | Conv2dStaticSamePadding | 38 K  \n",
      "422 | model.model._blocks.28._se_reduce.static_padding      | Identity                | 0     \n",
      "423 | model.model._blocks.28._se_expand                     | Conv2dStaticSamePadding | 39 K  \n",
      "424 | model.model._blocks.28._se_expand.static_padding      | Identity                | 0     \n",
      "425 | model.model._blocks.28._project_conv                  | Conv2dStaticSamePadding | 215 K \n",
      "426 | model.model._blocks.28._project_conv.static_padding   | Identity                | 0     \n",
      "427 | model.model._blocks.28._bn2                           | BatchNorm2d             | 448   \n",
      "428 | model.model._blocks.28._swish                         | MemoryEfficientSwish    | 0     \n",
      "429 | model.model._blocks.29                                | MBConvBlock             | 793 K \n",
      "430 | model.model._blocks.29._expand_conv                   | Conv2dStaticSamePadding | 301 K \n",
      "431 | model.model._blocks.29._expand_conv.static_padding    | Identity                | 0     \n",
      "432 | model.model._blocks.29._bn0                           | BatchNorm2d             | 2 K   \n",
      "433 | model.model._blocks.29._depthwise_conv                | Conv2dStaticSamePadding | 33 K  \n",
      "434 | model.model._blocks.29._depthwise_conv.static_padding | ZeroPad2d               | 0     \n",
      "435 | model.model._blocks.29._bn1                           | BatchNorm2d             | 2 K   \n",
      "436 | model.model._blocks.29._se_reduce                     | Conv2dStaticSamePadding | 75 K  \n",
      "437 | model.model._blocks.29._se_reduce.static_padding      | Identity                | 0     \n",
      "438 | model.model._blocks.29._se_expand                     | Conv2dStaticSamePadding | 76 K  \n",
      "439 | model.model._blocks.29._se_expand.static_padding      | Identity                | 0     \n",
      "440 | model.model._blocks.29._project_conv                  | Conv2dStaticSamePadding | 301 K \n",
      "441 | model.model._blocks.29._project_conv.static_padding   | Identity                | 0     \n",
      "442 | model.model._blocks.29._bn2                           | BatchNorm2d             | 448   \n",
      "443 | model.model._blocks.29._swish                         | MemoryEfficientSwish    | 0     \n",
      "444 | model.model._blocks.30                                | MBConvBlock             | 793 K \n",
      "445 | model.model._blocks.30._expand_conv                   | Conv2dStaticSamePadding | 301 K \n",
      "446 | model.model._blocks.30._expand_conv.static_padding    | Identity                | 0     \n",
      "447 | model.model._blocks.30._bn0                           | BatchNorm2d             | 2 K   \n",
      "448 | model.model._blocks.30._depthwise_conv                | Conv2dStaticSamePadding | 33 K  \n",
      "449 | model.model._blocks.30._depthwise_conv.static_padding | ZeroPad2d               | 0     \n",
      "450 | model.model._blocks.30._bn1                           | BatchNorm2d             | 2 K   \n",
      "451 | model.model._blocks.30._se_reduce                     | Conv2dStaticSamePadding | 75 K  \n",
      "452 | model.model._blocks.30._se_reduce.static_padding      | Identity                | 0     \n",
      "453 | model.model._blocks.30._se_expand                     | Conv2dStaticSamePadding | 76 K  \n",
      "454 | model.model._blocks.30._se_expand.static_padding      | Identity                | 0     \n",
      "455 | model.model._blocks.30._project_conv                  | Conv2dStaticSamePadding | 301 K \n",
      "456 | model.model._blocks.30._project_conv.static_padding   | Identity                | 0     \n",
      "457 | model.model._blocks.30._bn2                           | BatchNorm2d             | 448   \n",
      "458 | model.model._blocks.30._swish                         | MemoryEfficientSwish    | 0     \n",
      "459 | model.model._blocks.31                                | MBConvBlock             | 793 K \n",
      "460 | model.model._blocks.31._expand_conv                   | Conv2dStaticSamePadding | 301 K \n",
      "461 | model.model._blocks.31._expand_conv.static_padding    | Identity                | 0     \n",
      "462 | model.model._blocks.31._bn0                           | BatchNorm2d             | 2 K   \n",
      "463 | model.model._blocks.31._depthwise_conv                | Conv2dStaticSamePadding | 33 K  \n",
      "464 | model.model._blocks.31._depthwise_conv.static_padding | ZeroPad2d               | 0     \n",
      "465 | model.model._blocks.31._bn1                           | BatchNorm2d             | 2 K   \n",
      "466 | model.model._blocks.31._se_reduce                     | Conv2dStaticSamePadding | 75 K  \n",
      "467 | model.model._blocks.31._se_reduce.static_padding      | Identity                | 0     \n",
      "468 | model.model._blocks.31._se_expand                     | Conv2dStaticSamePadding | 76 K  \n",
      "469 | model.model._blocks.31._se_expand.static_padding      | Identity                | 0     \n",
      "470 | model.model._blocks.31._project_conv                  | Conv2dStaticSamePadding | 301 K \n",
      "471 | model.model._blocks.31._project_conv.static_padding   | Identity                | 0     \n",
      "472 | model.model._blocks.31._bn2                           | BatchNorm2d             | 448   \n",
      "473 | model.model._blocks.31._swish                         | MemoryEfficientSwish    | 0     \n",
      "474 | model.model._blocks.32                                | MBConvBlock             | 793 K \n",
      "475 | model.model._blocks.32._expand_conv                   | Conv2dStaticSamePadding | 301 K \n",
      "476 | model.model._blocks.32._expand_conv.static_padding    | Identity                | 0     \n",
      "477 | model.model._blocks.32._bn0                           | BatchNorm2d             | 2 K   \n",
      "478 | model.model._blocks.32._depthwise_conv                | Conv2dStaticSamePadding | 33 K  \n",
      "479 | model.model._blocks.32._depthwise_conv.static_padding | ZeroPad2d               | 0     \n",
      "480 | model.model._blocks.32._bn1                           | BatchNorm2d             | 2 K   \n",
      "481 | model.model._blocks.32._se_reduce                     | Conv2dStaticSamePadding | 75 K  \n",
      "482 | model.model._blocks.32._se_reduce.static_padding      | Identity                | 0     \n",
      "483 | model.model._blocks.32._se_expand                     | Conv2dStaticSamePadding | 76 K  \n",
      "484 | model.model._blocks.32._se_expand.static_padding      | Identity                | 0     \n",
      "485 | model.model._blocks.32._project_conv                  | Conv2dStaticSamePadding | 301 K \n",
      "486 | model.model._blocks.32._project_conv.static_padding   | Identity                | 0     \n",
      "487 | model.model._blocks.32._bn2                           | BatchNorm2d             | 448   \n",
      "488 | model.model._blocks.32._swish                         | MemoryEfficientSwish    | 0     \n",
      "489 | model.model._blocks.33                                | MBConvBlock             | 793 K \n",
      "490 | model.model._blocks.33._expand_conv                   | Conv2dStaticSamePadding | 301 K \n",
      "491 | model.model._blocks.33._expand_conv.static_padding    | Identity                | 0     \n",
      "492 | model.model._blocks.33._bn0                           | BatchNorm2d             | 2 K   \n",
      "493 | model.model._blocks.33._depthwise_conv                | Conv2dStaticSamePadding | 33 K  \n",
      "494 | model.model._blocks.33._depthwise_conv.static_padding | ZeroPad2d               | 0     \n",
      "495 | model.model._blocks.33._bn1                           | BatchNorm2d             | 2 K   \n",
      "496 | model.model._blocks.33._se_reduce                     | Conv2dStaticSamePadding | 75 K  \n",
      "497 | model.model._blocks.33._se_reduce.static_padding      | Identity                | 0     \n",
      "498 | model.model._blocks.33._se_expand                     | Conv2dStaticSamePadding | 76 K  \n",
      "499 | model.model._blocks.33._se_expand.static_padding      | Identity                | 0     \n",
      "500 | model.model._blocks.33._project_conv                  | Conv2dStaticSamePadding | 301 K \n",
      "501 | model.model._blocks.33._project_conv.static_padding   | Identity                | 0     \n",
      "502 | model.model._blocks.33._bn2                           | BatchNorm2d             | 448   \n",
      "503 | model.model._blocks.33._swish                         | MemoryEfficientSwish    | 0     \n",
      "504 | model.model._blocks.34                                | MBConvBlock             | 793 K \n",
      "505 | model.model._blocks.34._expand_conv                   | Conv2dStaticSamePadding | 301 K \n",
      "506 | model.model._blocks.34._expand_conv.static_padding    | Identity                | 0     \n",
      "507 | model.model._blocks.34._bn0                           | BatchNorm2d             | 2 K   \n",
      "508 | model.model._blocks.34._depthwise_conv                | Conv2dStaticSamePadding | 33 K  \n",
      "509 | model.model._blocks.34._depthwise_conv.static_padding | ZeroPad2d               | 0     \n",
      "510 | model.model._blocks.34._bn1                           | BatchNorm2d             | 2 K   \n",
      "511 | model.model._blocks.34._se_reduce                     | Conv2dStaticSamePadding | 75 K  \n",
      "512 | model.model._blocks.34._se_reduce.static_padding      | Identity                | 0     \n",
      "513 | model.model._blocks.34._se_expand                     | Conv2dStaticSamePadding | 76 K  \n",
      "514 | model.model._blocks.34._se_expand.static_padding      | Identity                | 0     \n",
      "515 | model.model._blocks.34._project_conv                  | Conv2dStaticSamePadding | 301 K \n",
      "516 | model.model._blocks.34._project_conv.static_padding   | Identity                | 0     \n",
      "517 | model.model._blocks.34._bn2                           | BatchNorm2d             | 448   \n",
      "518 | model.model._blocks.34._swish                         | MemoryEfficientSwish    | 0     \n",
      "519 | model.model._blocks.35                                | MBConvBlock             | 793 K \n",
      "520 | model.model._blocks.35._expand_conv                   | Conv2dStaticSamePadding | 301 K \n",
      "521 | model.model._blocks.35._expand_conv.static_padding    | Identity                | 0     \n",
      "522 | model.model._blocks.35._bn0                           | BatchNorm2d             | 2 K   \n",
      "523 | model.model._blocks.35._depthwise_conv                | Conv2dStaticSamePadding | 33 K  \n",
      "524 | model.model._blocks.35._depthwise_conv.static_padding | ZeroPad2d               | 0     \n",
      "525 | model.model._blocks.35._bn1                           | BatchNorm2d             | 2 K   \n",
      "526 | model.model._blocks.35._se_reduce                     | Conv2dStaticSamePadding | 75 K  \n",
      "527 | model.model._blocks.35._se_reduce.static_padding      | Identity                | 0     \n",
      "528 | model.model._blocks.35._se_expand                     | Conv2dStaticSamePadding | 76 K  \n",
      "529 | model.model._blocks.35._se_expand.static_padding      | Identity                | 0     \n",
      "530 | model.model._blocks.35._project_conv                  | Conv2dStaticSamePadding | 301 K \n",
      "531 | model.model._blocks.35._project_conv.static_padding   | Identity                | 0     \n",
      "532 | model.model._blocks.35._bn2                           | BatchNorm2d             | 448   \n",
      "533 | model.model._blocks.35._swish                         | MemoryEfficientSwish    | 0     \n",
      "534 | model.model._blocks.36                                | MBConvBlock             | 793 K \n",
      "535 | model.model._blocks.36._expand_conv                   | Conv2dStaticSamePadding | 301 K \n",
      "536 | model.model._blocks.36._expand_conv.static_padding    | Identity                | 0     \n",
      "537 | model.model._blocks.36._bn0                           | BatchNorm2d             | 2 K   \n",
      "538 | model.model._blocks.36._depthwise_conv                | Conv2dStaticSamePadding | 33 K  \n",
      "539 | model.model._blocks.36._depthwise_conv.static_padding | ZeroPad2d               | 0     \n",
      "540 | model.model._blocks.36._bn1                           | BatchNorm2d             | 2 K   \n",
      "541 | model.model._blocks.36._se_reduce                     | Conv2dStaticSamePadding | 75 K  \n",
      "542 | model.model._blocks.36._se_reduce.static_padding      | Identity                | 0     \n",
      "543 | model.model._blocks.36._se_expand                     | Conv2dStaticSamePadding | 76 K  \n",
      "544 | model.model._blocks.36._se_expand.static_padding      | Identity                | 0     \n",
      "545 | model.model._blocks.36._project_conv                  | Conv2dStaticSamePadding | 301 K \n",
      "546 | model.model._blocks.36._project_conv.static_padding   | Identity                | 0     \n",
      "547 | model.model._blocks.36._bn2                           | BatchNorm2d             | 448   \n",
      "548 | model.model._blocks.36._swish                         | MemoryEfficientSwish    | 0     \n",
      "549 | model.model._blocks.37                                | MBConvBlock             | 793 K \n",
      "550 | model.model._blocks.37._expand_conv                   | Conv2dStaticSamePadding | 301 K \n",
      "551 | model.model._blocks.37._expand_conv.static_padding    | Identity                | 0     \n",
      "552 | model.model._blocks.37._bn0                           | BatchNorm2d             | 2 K   \n",
      "553 | model.model._blocks.37._depthwise_conv                | Conv2dStaticSamePadding | 33 K  \n",
      "554 | model.model._blocks.37._depthwise_conv.static_padding | ZeroPad2d               | 0     \n",
      "555 | model.model._blocks.37._bn1                           | BatchNorm2d             | 2 K   \n",
      "556 | model.model._blocks.37._se_reduce                     | Conv2dStaticSamePadding | 75 K  \n",
      "557 | model.model._blocks.37._se_reduce.static_padding      | Identity                | 0     \n",
      "558 | model.model._blocks.37._se_expand                     | Conv2dStaticSamePadding | 76 K  \n",
      "559 | model.model._blocks.37._se_expand.static_padding      | Identity                | 0     \n",
      "560 | model.model._blocks.37._project_conv                  | Conv2dStaticSamePadding | 301 K \n",
      "561 | model.model._blocks.37._project_conv.static_padding   | Identity                | 0     \n",
      "562 | model.model._blocks.37._bn2                           | BatchNorm2d             | 448   \n",
      "563 | model.model._blocks.37._swish                         | MemoryEfficientSwish    | 0     \n",
      "564 | model.model._blocks.38                                | MBConvBlock             | 1 M   \n",
      "565 | model.model._blocks.38._expand_conv                   | Conv2dStaticSamePadding | 301 K \n",
      "566 | model.model._blocks.38._expand_conv.static_padding    | Identity                | 0     \n",
      "567 | model.model._blocks.38._bn0                           | BatchNorm2d             | 2 K   \n",
      "568 | model.model._blocks.38._depthwise_conv                | Conv2dStaticSamePadding | 33 K  \n",
      "569 | model.model._blocks.38._depthwise_conv.static_padding | ZeroPad2d               | 0     \n",
      "570 | model.model._blocks.38._bn1                           | BatchNorm2d             | 2 K   \n",
      "571 | model.model._blocks.38._se_reduce                     | Conv2dStaticSamePadding | 75 K  \n",
      "572 | model.model._blocks.38._se_reduce.static_padding      | Identity                | 0     \n",
      "573 | model.model._blocks.38._se_expand                     | Conv2dStaticSamePadding | 76 K  \n",
      "574 | model.model._blocks.38._se_expand.static_padding      | Identity                | 0     \n",
      "575 | model.model._blocks.38._project_conv                  | Conv2dStaticSamePadding | 516 K \n",
      "576 | model.model._blocks.38._project_conv.static_padding   | Identity                | 0     \n",
      "577 | model.model._blocks.38._bn2                           | BatchNorm2d             | 768   \n",
      "578 | model.model._blocks.38._swish                         | MemoryEfficientSwish    | 0     \n",
      "579 | model.model._blocks.39                                | MBConvBlock             | 2 M   \n",
      "580 | model.model._blocks.39._expand_conv                   | Conv2dStaticSamePadding | 884 K \n",
      "581 | model.model._blocks.39._expand_conv.static_padding    | Identity                | 0     \n",
      "582 | model.model._blocks.39._bn0                           | BatchNorm2d             | 4 K   \n",
      "583 | model.model._blocks.39._depthwise_conv                | Conv2dStaticSamePadding | 57 K  \n",
      "584 | model.model._blocks.39._depthwise_conv.static_padding | ZeroPad2d               | 0     \n",
      "585 | model.model._blocks.39._bn1                           | BatchNorm2d             | 4 K   \n",
      "586 | model.model._blocks.39._se_reduce                     | Conv2dStaticSamePadding | 221 K \n",
      "587 | model.model._blocks.39._se_reduce.static_padding      | Identity                | 0     \n",
      "588 | model.model._blocks.39._se_expand                     | Conv2dStaticSamePadding | 223 K \n",
      "589 | model.model._blocks.39._se_expand.static_padding      | Identity                | 0     \n",
      "590 | model.model._blocks.39._project_conv                  | Conv2dStaticSamePadding | 884 K \n",
      "591 | model.model._blocks.39._project_conv.static_padding   | Identity                | 0     \n",
      "592 | model.model._blocks.39._bn2                           | BatchNorm2d             | 768   \n",
      "593 | model.model._blocks.39._swish                         | MemoryEfficientSwish    | 0     \n",
      "594 | model.model._blocks.40                                | MBConvBlock             | 2 M   \n",
      "595 | model.model._blocks.40._expand_conv                   | Conv2dStaticSamePadding | 884 K \n",
      "596 | model.model._blocks.40._expand_conv.static_padding    | Identity                | 0     \n",
      "597 | model.model._blocks.40._bn0                           | BatchNorm2d             | 4 K   \n",
      "598 | model.model._blocks.40._depthwise_conv                | Conv2dStaticSamePadding | 57 K  \n",
      "599 | model.model._blocks.40._depthwise_conv.static_padding | ZeroPad2d               | 0     \n",
      "600 | model.model._blocks.40._bn1                           | BatchNorm2d             | 4 K   \n",
      "601 | model.model._blocks.40._se_reduce                     | Conv2dStaticSamePadding | 221 K \n",
      "602 | model.model._blocks.40._se_reduce.static_padding      | Identity                | 0     \n",
      "603 | model.model._blocks.40._se_expand                     | Conv2dStaticSamePadding | 223 K \n",
      "604 | model.model._blocks.40._se_expand.static_padding      | Identity                | 0     \n",
      "605 | model.model._blocks.40._project_conv                  | Conv2dStaticSamePadding | 884 K \n",
      "606 | model.model._blocks.40._project_conv.static_padding   | Identity                | 0     \n",
      "607 | model.model._blocks.40._bn2                           | BatchNorm2d             | 768   \n",
      "608 | model.model._blocks.40._swish                         | MemoryEfficientSwish    | 0     \n",
      "609 | model.model._blocks.41                                | MBConvBlock             | 2 M   \n",
      "610 | model.model._blocks.41._expand_conv                   | Conv2dStaticSamePadding | 884 K \n",
      "611 | model.model._blocks.41._expand_conv.static_padding    | Identity                | 0     \n",
      "612 | model.model._blocks.41._bn0                           | BatchNorm2d             | 4 K   \n",
      "613 | model.model._blocks.41._depthwise_conv                | Conv2dStaticSamePadding | 57 K  \n",
      "614 | model.model._blocks.41._depthwise_conv.static_padding | ZeroPad2d               | 0     \n",
      "615 | model.model._blocks.41._bn1                           | BatchNorm2d             | 4 K   \n",
      "616 | model.model._blocks.41._se_reduce                     | Conv2dStaticSamePadding | 221 K \n",
      "617 | model.model._blocks.41._se_reduce.static_padding      | Identity                | 0     \n",
      "618 | model.model._blocks.41._se_expand                     | Conv2dStaticSamePadding | 223 K \n",
      "619 | model.model._blocks.41._se_expand.static_padding      | Identity                | 0     \n",
      "620 | model.model._blocks.41._project_conv                  | Conv2dStaticSamePadding | 884 K \n",
      "621 | model.model._blocks.41._project_conv.static_padding   | Identity                | 0     \n",
      "622 | model.model._blocks.41._bn2                           | BatchNorm2d             | 768   \n",
      "623 | model.model._blocks.41._swish                         | MemoryEfficientSwish    | 0     \n",
      "624 | model.model._blocks.42                                | MBConvBlock             | 2 M   \n",
      "625 | model.model._blocks.42._expand_conv                   | Conv2dStaticSamePadding | 884 K \n",
      "626 | model.model._blocks.42._expand_conv.static_padding    | Identity                | 0     \n",
      "627 | model.model._blocks.42._bn0                           | BatchNorm2d             | 4 K   \n",
      "628 | model.model._blocks.42._depthwise_conv                | Conv2dStaticSamePadding | 57 K  \n",
      "629 | model.model._blocks.42._depthwise_conv.static_padding | ZeroPad2d               | 0     \n",
      "630 | model.model._blocks.42._bn1                           | BatchNorm2d             | 4 K   \n",
      "631 | model.model._blocks.42._se_reduce                     | Conv2dStaticSamePadding | 221 K \n",
      "632 | model.model._blocks.42._se_reduce.static_padding      | Identity                | 0     \n",
      "633 | model.model._blocks.42._se_expand                     | Conv2dStaticSamePadding | 223 K \n",
      "634 | model.model._blocks.42._se_expand.static_padding      | Identity                | 0     \n",
      "635 | model.model._blocks.42._project_conv                  | Conv2dStaticSamePadding | 884 K \n",
      "636 | model.model._blocks.42._project_conv.static_padding   | Identity                | 0     \n",
      "637 | model.model._blocks.42._bn2                           | BatchNorm2d             | 768   \n",
      "638 | model.model._blocks.42._swish                         | MemoryEfficientSwish    | 0     \n",
      "639 | model.model._blocks.43                                | MBConvBlock             | 2 M   \n",
      "640 | model.model._blocks.43._expand_conv                   | Conv2dStaticSamePadding | 884 K \n",
      "641 | model.model._blocks.43._expand_conv.static_padding    | Identity                | 0     \n",
      "642 | model.model._blocks.43._bn0                           | BatchNorm2d             | 4 K   \n",
      "643 | model.model._blocks.43._depthwise_conv                | Conv2dStaticSamePadding | 57 K  \n",
      "644 | model.model._blocks.43._depthwise_conv.static_padding | ZeroPad2d               | 0     \n",
      "645 | model.model._blocks.43._bn1                           | BatchNorm2d             | 4 K   \n",
      "646 | model.model._blocks.43._se_reduce                     | Conv2dStaticSamePadding | 221 K \n",
      "647 | model.model._blocks.43._se_reduce.static_padding      | Identity                | 0     \n",
      "648 | model.model._blocks.43._se_expand                     | Conv2dStaticSamePadding | 223 K \n",
      "649 | model.model._blocks.43._se_expand.static_padding      | Identity                | 0     \n",
      "650 | model.model._blocks.43._project_conv                  | Conv2dStaticSamePadding | 884 K \n",
      "651 | model.model._blocks.43._project_conv.static_padding   | Identity                | 0     \n",
      "652 | model.model._blocks.43._bn2                           | BatchNorm2d             | 768   \n",
      "653 | model.model._blocks.43._swish                         | MemoryEfficientSwish    | 0     \n",
      "654 | model.model._blocks.44                                | MBConvBlock             | 2 M   \n",
      "655 | model.model._blocks.44._expand_conv                   | Conv2dStaticSamePadding | 884 K \n",
      "656 | model.model._blocks.44._expand_conv.static_padding    | Identity                | 0     \n",
      "657 | model.model._blocks.44._bn0                           | BatchNorm2d             | 4 K   \n",
      "658 | model.model._blocks.44._depthwise_conv                | Conv2dStaticSamePadding | 57 K  \n",
      "659 | model.model._blocks.44._depthwise_conv.static_padding | ZeroPad2d               | 0     \n",
      "660 | model.model._blocks.44._bn1                           | BatchNorm2d             | 4 K   \n",
      "661 | model.model._blocks.44._se_reduce                     | Conv2dStaticSamePadding | 221 K \n",
      "662 | model.model._blocks.44._se_reduce.static_padding      | Identity                | 0     \n",
      "663 | model.model._blocks.44._se_expand                     | Conv2dStaticSamePadding | 223 K \n",
      "664 | model.model._blocks.44._se_expand.static_padding      | Identity                | 0     \n",
      "665 | model.model._blocks.44._project_conv                  | Conv2dStaticSamePadding | 884 K \n",
      "666 | model.model._blocks.44._project_conv.static_padding   | Identity                | 0     \n",
      "667 | model.model._blocks.44._bn2                           | BatchNorm2d             | 768   \n",
      "668 | model.model._blocks.44._swish                         | MemoryEfficientSwish    | 0     \n",
      "669 | model.model._blocks.45                                | MBConvBlock             | 2 M   \n",
      "670 | model.model._blocks.45._expand_conv                   | Conv2dStaticSamePadding | 884 K \n",
      "671 | model.model._blocks.45._expand_conv.static_padding    | Identity                | 0     \n",
      "672 | model.model._blocks.45._bn0                           | BatchNorm2d             | 4 K   \n",
      "673 | model.model._blocks.45._depthwise_conv                | Conv2dStaticSamePadding | 57 K  \n",
      "674 | model.model._blocks.45._depthwise_conv.static_padding | ZeroPad2d               | 0     \n",
      "675 | model.model._blocks.45._bn1                           | BatchNorm2d             | 4 K   \n",
      "676 | model.model._blocks.45._se_reduce                     | Conv2dStaticSamePadding | 221 K \n",
      "677 | model.model._blocks.45._se_reduce.static_padding      | Identity                | 0     \n",
      "678 | model.model._blocks.45._se_expand                     | Conv2dStaticSamePadding | 223 K \n",
      "679 | model.model._blocks.45._se_expand.static_padding      | Identity                | 0     \n",
      "680 | model.model._blocks.45._project_conv                  | Conv2dStaticSamePadding | 884 K \n",
      "681 | model.model._blocks.45._project_conv.static_padding   | Identity                | 0     \n",
      "682 | model.model._blocks.45._bn2                           | BatchNorm2d             | 768   \n",
      "683 | model.model._blocks.45._swish                         | MemoryEfficientSwish    | 0     \n",
      "684 | model.model._blocks.46                                | MBConvBlock             | 2 M   \n",
      "685 | model.model._blocks.46._expand_conv                   | Conv2dStaticSamePadding | 884 K \n",
      "686 | model.model._blocks.46._expand_conv.static_padding    | Identity                | 0     \n",
      "687 | model.model._blocks.46._bn0                           | BatchNorm2d             | 4 K   \n",
      "688 | model.model._blocks.46._depthwise_conv                | Conv2dStaticSamePadding | 57 K  \n",
      "689 | model.model._blocks.46._depthwise_conv.static_padding | ZeroPad2d               | 0     \n",
      "690 | model.model._blocks.46._bn1                           | BatchNorm2d             | 4 K   \n",
      "691 | model.model._blocks.46._se_reduce                     | Conv2dStaticSamePadding | 221 K \n",
      "692 | model.model._blocks.46._se_reduce.static_padding      | Identity                | 0     \n",
      "693 | model.model._blocks.46._se_expand                     | Conv2dStaticSamePadding | 223 K \n",
      "694 | model.model._blocks.46._se_expand.static_padding      | Identity                | 0     \n",
      "695 | model.model._blocks.46._project_conv                  | Conv2dStaticSamePadding | 884 K \n",
      "696 | model.model._blocks.46._project_conv.static_padding   | Identity                | 0     \n",
      "697 | model.model._blocks.46._bn2                           | BatchNorm2d             | 768   \n",
      "698 | model.model._blocks.46._swish                         | MemoryEfficientSwish    | 0     \n",
      "699 | model.model._blocks.47                                | MBConvBlock             | 2 M   \n",
      "700 | model.model._blocks.47._expand_conv                   | Conv2dStaticSamePadding | 884 K \n",
      "701 | model.model._blocks.47._expand_conv.static_padding    | Identity                | 0     \n",
      "702 | model.model._blocks.47._bn0                           | BatchNorm2d             | 4 K   \n",
      "703 | model.model._blocks.47._depthwise_conv                | Conv2dStaticSamePadding | 57 K  \n",
      "704 | model.model._blocks.47._depthwise_conv.static_padding | ZeroPad2d               | 0     \n",
      "705 | model.model._blocks.47._bn1                           | BatchNorm2d             | 4 K   \n",
      "706 | model.model._blocks.47._se_reduce                     | Conv2dStaticSamePadding | 221 K \n",
      "707 | model.model._blocks.47._se_reduce.static_padding      | Identity                | 0     \n",
      "708 | model.model._blocks.47._se_expand                     | Conv2dStaticSamePadding | 223 K \n",
      "709 | model.model._blocks.47._se_expand.static_padding      | Identity                | 0     \n",
      "710 | model.model._blocks.47._project_conv                  | Conv2dStaticSamePadding | 884 K \n",
      "711 | model.model._blocks.47._project_conv.static_padding   | Identity                | 0     \n",
      "712 | model.model._blocks.47._bn2                           | BatchNorm2d             | 768   \n",
      "713 | model.model._blocks.47._swish                         | MemoryEfficientSwish    | 0     \n",
      "714 | model.model._blocks.48                                | MBConvBlock             | 2 M   \n",
      "715 | model.model._blocks.48._expand_conv                   | Conv2dStaticSamePadding | 884 K \n",
      "716 | model.model._blocks.48._expand_conv.static_padding    | Identity                | 0     \n",
      "717 | model.model._blocks.48._bn0                           | BatchNorm2d             | 4 K   \n",
      "718 | model.model._blocks.48._depthwise_conv                | Conv2dStaticSamePadding | 57 K  \n",
      "719 | model.model._blocks.48._depthwise_conv.static_padding | ZeroPad2d               | 0     \n",
      "720 | model.model._blocks.48._bn1                           | BatchNorm2d             | 4 K   \n",
      "721 | model.model._blocks.48._se_reduce                     | Conv2dStaticSamePadding | 221 K \n",
      "722 | model.model._blocks.48._se_reduce.static_padding      | Identity                | 0     \n",
      "723 | model.model._blocks.48._se_expand                     | Conv2dStaticSamePadding | 223 K \n",
      "724 | model.model._blocks.48._se_expand.static_padding      | Identity                | 0     \n",
      "725 | model.model._blocks.48._project_conv                  | Conv2dStaticSamePadding | 884 K \n",
      "726 | model.model._blocks.48._project_conv.static_padding   | Identity                | 0     \n",
      "727 | model.model._blocks.48._bn2                           | BatchNorm2d             | 768   \n",
      "728 | model.model._blocks.48._swish                         | MemoryEfficientSwish    | 0     \n",
      "729 | model.model._blocks.49                                | MBConvBlock             | 2 M   \n",
      "730 | model.model._blocks.49._expand_conv                   | Conv2dStaticSamePadding | 884 K \n",
      "731 | model.model._blocks.49._expand_conv.static_padding    | Identity                | 0     \n",
      "732 | model.model._blocks.49._bn0                           | BatchNorm2d             | 4 K   \n",
      "733 | model.model._blocks.49._depthwise_conv                | Conv2dStaticSamePadding | 57 K  \n",
      "734 | model.model._blocks.49._depthwise_conv.static_padding | ZeroPad2d               | 0     \n",
      "735 | model.model._blocks.49._bn1                           | BatchNorm2d             | 4 K   \n",
      "736 | model.model._blocks.49._se_reduce                     | Conv2dStaticSamePadding | 221 K \n",
      "737 | model.model._blocks.49._se_reduce.static_padding      | Identity                | 0     \n",
      "738 | model.model._blocks.49._se_expand                     | Conv2dStaticSamePadding | 223 K \n",
      "739 | model.model._blocks.49._se_expand.static_padding      | Identity                | 0     \n",
      "740 | model.model._blocks.49._project_conv                  | Conv2dStaticSamePadding | 884 K \n",
      "741 | model.model._blocks.49._project_conv.static_padding   | Identity                | 0     \n",
      "742 | model.model._blocks.49._bn2                           | BatchNorm2d             | 768   \n",
      "743 | model.model._blocks.49._swish                         | MemoryEfficientSwish    | 0     \n",
      "744 | model.model._blocks.50                                | MBConvBlock             | 2 M   \n",
      "745 | model.model._blocks.50._expand_conv                   | Conv2dStaticSamePadding | 884 K \n",
      "746 | model.model._blocks.50._expand_conv.static_padding    | Identity                | 0     \n",
      "747 | model.model._blocks.50._bn0                           | BatchNorm2d             | 4 K   \n",
      "748 | model.model._blocks.50._depthwise_conv                | Conv2dStaticSamePadding | 57 K  \n",
      "749 | model.model._blocks.50._depthwise_conv.static_padding | ZeroPad2d               | 0     \n",
      "750 | model.model._blocks.50._bn1                           | BatchNorm2d             | 4 K   \n",
      "751 | model.model._blocks.50._se_reduce                     | Conv2dStaticSamePadding | 221 K \n",
      "752 | model.model._blocks.50._se_reduce.static_padding      | Identity                | 0     \n",
      "753 | model.model._blocks.50._se_expand                     | Conv2dStaticSamePadding | 223 K \n",
      "754 | model.model._blocks.50._se_expand.static_padding      | Identity                | 0     \n",
      "755 | model.model._blocks.50._project_conv                  | Conv2dStaticSamePadding | 884 K \n",
      "756 | model.model._blocks.50._project_conv.static_padding   | Identity                | 0     \n",
      "757 | model.model._blocks.50._bn2                           | BatchNorm2d             | 768   \n",
      "758 | model.model._blocks.50._swish                         | MemoryEfficientSwish    | 0     \n",
      "759 | model.model._blocks.51                                | MBConvBlock             | 2 M   \n",
      "760 | model.model._blocks.51._expand_conv                   | Conv2dStaticSamePadding | 884 K \n",
      "761 | model.model._blocks.51._expand_conv.static_padding    | Identity                | 0     \n",
      "762 | model.model._blocks.51._bn0                           | BatchNorm2d             | 4 K   \n",
      "763 | model.model._blocks.51._depthwise_conv                | Conv2dStaticSamePadding | 20 K  \n",
      "764 | model.model._blocks.51._depthwise_conv.static_padding | ZeroPad2d               | 0     \n",
      "765 | model.model._blocks.51._bn1                           | BatchNorm2d             | 4 K   \n",
      "766 | model.model._blocks.51._se_reduce                     | Conv2dStaticSamePadding | 221 K \n",
      "767 | model.model._blocks.51._se_reduce.static_padding      | Identity                | 0     \n",
      "768 | model.model._blocks.51._se_expand                     | Conv2dStaticSamePadding | 223 K \n",
      "769 | model.model._blocks.51._se_expand.static_padding      | Identity                | 0     \n",
      "770 | model.model._blocks.51._project_conv                  | Conv2dStaticSamePadding | 1 M   \n",
      "771 | model.model._blocks.51._project_conv.static_padding   | Identity                | 0     \n",
      "772 | model.model._blocks.51._bn2                           | BatchNorm2d             | 1 K   \n",
      "773 | model.model._blocks.51._swish                         | MemoryEfficientSwish    | 0     \n",
      "774 | model.model._blocks.52                                | MBConvBlock             | 6 M   \n",
      "775 | model.model._blocks.52._expand_conv                   | Conv2dStaticSamePadding | 2 M   \n",
      "776 | model.model._blocks.52._expand_conv.static_padding    | Identity                | 0     \n",
      "777 | model.model._blocks.52._bn0                           | BatchNorm2d             | 7 K   \n",
      "778 | model.model._blocks.52._depthwise_conv                | Conv2dStaticSamePadding | 34 K  \n",
      "779 | model.model._blocks.52._depthwise_conv.static_padding | ZeroPad2d               | 0     \n",
      "780 | model.model._blocks.52._bn1                           | BatchNorm2d             | 7 K   \n",
      "781 | model.model._blocks.52._se_reduce                     | Conv2dStaticSamePadding | 614 K \n",
      "782 | model.model._blocks.52._se_reduce.static_padding      | Identity                | 0     \n",
      "783 | model.model._blocks.52._se_expand                     | Conv2dStaticSamePadding | 618 K \n",
      "784 | model.model._blocks.52._se_expand.static_padding      | Identity                | 0     \n",
      "785 | model.model._blocks.52._project_conv                  | Conv2dStaticSamePadding | 2 M   \n",
      "786 | model.model._blocks.52._project_conv.static_padding   | Identity                | 0     \n",
      "787 | model.model._blocks.52._bn2                           | BatchNorm2d             | 1 K   \n",
      "788 | model.model._blocks.52._swish                         | MemoryEfficientSwish    | 0     \n",
      "789 | model.model._blocks.53                                | MBConvBlock             | 6 M   \n",
      "790 | model.model._blocks.53._expand_conv                   | Conv2dStaticSamePadding | 2 M   \n",
      "791 | model.model._blocks.53._expand_conv.static_padding    | Identity                | 0     \n",
      "792 | model.model._blocks.53._bn0                           | BatchNorm2d             | 7 K   \n",
      "793 | model.model._blocks.53._depthwise_conv                | Conv2dStaticSamePadding | 34 K  \n",
      "794 | model.model._blocks.53._depthwise_conv.static_padding | ZeroPad2d               | 0     \n",
      "795 | model.model._blocks.53._bn1                           | BatchNorm2d             | 7 K   \n",
      "796 | model.model._blocks.53._se_reduce                     | Conv2dStaticSamePadding | 614 K \n",
      "797 | model.model._blocks.53._se_reduce.static_padding      | Identity                | 0     \n",
      "798 | model.model._blocks.53._se_expand                     | Conv2dStaticSamePadding | 618 K \n",
      "799 | model.model._blocks.53._se_expand.static_padding      | Identity                | 0     \n",
      "800 | model.model._blocks.53._project_conv                  | Conv2dStaticSamePadding | 2 M   \n",
      "801 | model.model._blocks.53._project_conv.static_padding   | Identity                | 0     \n",
      "802 | model.model._blocks.53._bn2                           | BatchNorm2d             | 1 K   \n",
      "803 | model.model._blocks.53._swish                         | MemoryEfficientSwish    | 0     \n",
      "804 | model.model._blocks.54                                | MBConvBlock             | 6 M   \n",
      "805 | model.model._blocks.54._expand_conv                   | Conv2dStaticSamePadding | 2 M   \n",
      "806 | model.model._blocks.54._expand_conv.static_padding    | Identity                | 0     \n",
      "807 | model.model._blocks.54._bn0                           | BatchNorm2d             | 7 K   \n",
      "808 | model.model._blocks.54._depthwise_conv                | Conv2dStaticSamePadding | 34 K  \n",
      "809 | model.model._blocks.54._depthwise_conv.static_padding | ZeroPad2d               | 0     \n",
      "810 | model.model._blocks.54._bn1                           | BatchNorm2d             | 7 K   \n",
      "811 | model.model._blocks.54._se_reduce                     | Conv2dStaticSamePadding | 614 K \n",
      "812 | model.model._blocks.54._se_reduce.static_padding      | Identity                | 0     \n",
      "813 | model.model._blocks.54._se_expand                     | Conv2dStaticSamePadding | 618 K \n",
      "814 | model.model._blocks.54._se_expand.static_padding      | Identity                | 0     \n",
      "815 | model.model._blocks.54._project_conv                  | Conv2dStaticSamePadding | 2 M   \n",
      "816 | model.model._blocks.54._project_conv.static_padding   | Identity                | 0     \n",
      "817 | model.model._blocks.54._bn2                           | BatchNorm2d             | 1 K   \n",
      "818 | model.model._blocks.54._swish                         | MemoryEfficientSwish    | 0     \n",
      "819 | model.model._conv_head                                | Conv2dStaticSamePadding | 1 M   \n",
      "820 | model.model._conv_head.static_padding                 | Identity                | 0     \n",
      "821 | model.model._bn1                                      | BatchNorm2d             | 5 K   \n",
      "822 | model.model._avg_pooling                              | AdaptiveAvgPool2d       | 0     \n",
      "823 | model.model._dropout                                  | Dropout                 | 0     \n",
      "824 | model.model._fc                                       | Linear                  | 2 K   \n",
      "825 | model.model._swish                                    | MemoryEfficientSwish    | 0     \n",
      "826 | loss                                                  | MSELoss                 | 0     \n"
     ]
    },
    {
     "data": {
      "application/vnd.jupyter.widget-view+json": {
       "model_id": "",
       "version_major": 2,
       "version_minor": 0
      },
      "text/plain": [
       "HBox(children=(FloatProgress(value=0.0, description='Validation sanity check', layout=Layout(flex='2'), max=5.…"
      ]
     },
     "metadata": {},
     "output_type": "display_data"
    },
    {
     "name": "stderr",
     "output_type": "stream",
     "text": [
      "/home/vmlab/.local/lib/python3.6/site-packages/torch/nn/parallel/_functions.py:61: UserWarning: Was asked to gather along dimension 0, but all input tensors were scalars; will instead unsqueeze and return a vector.\n",
      "  warnings.warn('Was asked to gather along dimension 0, but all '\n"
     ]
    },
    {
     "name": "stdout",
     "output_type": "stream",
     "text": [
      "\r"
     ]
    },
    {
     "data": {
      "application/vnd.jupyter.widget-view+json": {
       "model_id": "062d0fa8726e4e489d97e3c7915c9115",
       "version_major": 2,
       "version_minor": 0
      },
      "text/plain": [
       "HBox(children=(FloatProgress(value=1.0, bar_style='info', layout=Layout(flex='2'), max=1.0), HTML(value='')), …"
      ]
     },
     "metadata": {},
     "output_type": "display_data"
    },
    {
     "name": "stderr",
     "output_type": "stream",
     "text": [
      "/home/vmlab/.local/lib/python3.6/site-packages/pytorch_lightning/utilities/warnings.py:18: RuntimeWarning: Displayed epoch numbers in the progress bar start from \"1\" until v0.6.x, but will start from \"0\" in v0.8.0.\n",
      "  warnings.warn(*args, **kwargs)\n"
     ]
    },
    {
     "data": {
      "application/vnd.jupyter.widget-view+json": {
       "model_id": "",
       "version_major": 2,
       "version_minor": 0
      },
      "text/plain": [
       "HBox(children=(FloatProgress(value=0.0, description='Validating', layout=Layout(flex='2'), max=93.0, style=Pro…"
      ]
     },
     "metadata": {},
     "output_type": "display_data"
    },
    {
     "data": {
      "application/vnd.jupyter.widget-view+json": {
       "model_id": "",
       "version_major": 2,
       "version_minor": 0
      },
      "text/plain": [
       "HBox(children=(FloatProgress(value=0.0, description='Validating', layout=Layout(flex='2'), max=93.0, style=Pro…"
      ]
     },
     "metadata": {},
     "output_type": "display_data"
    },
    {
     "data": {
      "application/vnd.jupyter.widget-view+json": {
       "model_id": "",
       "version_major": 2,
       "version_minor": 0
      },
      "text/plain": [
       "HBox(children=(FloatProgress(value=0.0, description='Validating', layout=Layout(flex='2'), max=93.0, style=Pro…"
      ]
     },
     "metadata": {},
     "output_type": "display_data"
    },
    {
     "data": {
      "application/vnd.jupyter.widget-view+json": {
       "model_id": "",
       "version_major": 2,
       "version_minor": 0
      },
      "text/plain": [
       "HBox(children=(FloatProgress(value=0.0, description='Validating', layout=Layout(flex='2'), max=93.0, style=Pro…"
      ]
     },
     "metadata": {},
     "output_type": "display_data"
    },
    {
     "data": {
      "application/vnd.jupyter.widget-view+json": {
       "model_id": "",
       "version_major": 2,
       "version_minor": 0
      },
      "text/plain": [
       "HBox(children=(FloatProgress(value=0.0, description='Validating', layout=Layout(flex='2'), max=93.0, style=Pro…"
      ]
     },
     "metadata": {},
     "output_type": "display_data"
    },
    {
     "data": {
      "application/vnd.jupyter.widget-view+json": {
       "model_id": "",
       "version_major": 2,
       "version_minor": 0
      },
      "text/plain": [
       "HBox(children=(FloatProgress(value=0.0, description='Validating', layout=Layout(flex='2'), max=93.0, style=Pro…"
      ]
     },
     "metadata": {},
     "output_type": "display_data"
    },
    {
     "data": {
      "application/vnd.jupyter.widget-view+json": {
       "model_id": "",
       "version_major": 2,
       "version_minor": 0
      },
      "text/plain": [
       "HBox(children=(FloatProgress(value=0.0, description='Validating', layout=Layout(flex='2'), max=93.0, style=Pro…"
      ]
     },
     "metadata": {},
     "output_type": "display_data"
    },
    {
     "data": {
      "application/vnd.jupyter.widget-view+json": {
       "model_id": "",
       "version_major": 2,
       "version_minor": 0
      },
      "text/plain": [
       "HBox(children=(FloatProgress(value=0.0, description='Validating', layout=Layout(flex='2'), max=93.0, style=Pro…"
      ]
     },
     "metadata": {},
     "output_type": "display_data"
    },
    {
     "data": {
      "application/vnd.jupyter.widget-view+json": {
       "model_id": "",
       "version_major": 2,
       "version_minor": 0
      },
      "text/plain": [
       "HBox(children=(FloatProgress(value=0.0, description='Validating', layout=Layout(flex='2'), max=93.0, style=Pro…"
      ]
     },
     "metadata": {},
     "output_type": "display_data"
    },
    {
     "data": {
      "application/vnd.jupyter.widget-view+json": {
       "model_id": "",
       "version_major": 2,
       "version_minor": 0
      },
      "text/plain": [
       "HBox(children=(FloatProgress(value=0.0, description='Validating', layout=Layout(flex='2'), max=93.0, style=Pro…"
      ]
     },
     "metadata": {},
     "output_type": "display_data"
    },
    {
     "data": {
      "application/vnd.jupyter.widget-view+json": {
       "model_id": "",
       "version_major": 2,
       "version_minor": 0
      },
      "text/plain": [
       "HBox(children=(FloatProgress(value=0.0, description='Validating', layout=Layout(flex='2'), max=93.0, style=Pro…"
      ]
     },
     "metadata": {},
     "output_type": "display_data"
    },
    {
     "data": {
      "application/vnd.jupyter.widget-view+json": {
       "model_id": "",
       "version_major": 2,
       "version_minor": 0
      },
      "text/plain": [
       "HBox(children=(FloatProgress(value=0.0, description='Validating', layout=Layout(flex='2'), max=93.0, style=Pro…"
      ]
     },
     "metadata": {},
     "output_type": "display_data"
    },
    {
     "data": {
      "application/vnd.jupyter.widget-view+json": {
       "model_id": "",
       "version_major": 2,
       "version_minor": 0
      },
      "text/plain": [
       "HBox(children=(FloatProgress(value=0.0, description='Validating', layout=Layout(flex='2'), max=93.0, style=Pro…"
      ]
     },
     "metadata": {},
     "output_type": "display_data"
    },
    {
     "data": {
      "application/vnd.jupyter.widget-view+json": {
       "model_id": "",
       "version_major": 2,
       "version_minor": 0
      },
      "text/plain": [
       "HBox(children=(FloatProgress(value=0.0, description='Validating', layout=Layout(flex='2'), max=93.0, style=Pro…"
      ]
     },
     "metadata": {},
     "output_type": "display_data"
    },
    {
     "data": {
      "application/vnd.jupyter.widget-view+json": {
       "model_id": "",
       "version_major": 2,
       "version_minor": 0
      },
      "text/plain": [
       "HBox(children=(FloatProgress(value=0.0, description='Validating', layout=Layout(flex='2'), max=93.0, style=Pro…"
      ]
     },
     "metadata": {},
     "output_type": "display_data"
    },
    {
     "data": {
      "application/vnd.jupyter.widget-view+json": {
       "model_id": "",
       "version_major": 2,
       "version_minor": 0
      },
      "text/plain": [
       "HBox(children=(FloatProgress(value=0.0, description='Validating', layout=Layout(flex='2'), max=93.0, style=Pro…"
      ]
     },
     "metadata": {},
     "output_type": "display_data"
    },
    {
     "data": {
      "application/vnd.jupyter.widget-view+json": {
       "model_id": "",
       "version_major": 2,
       "version_minor": 0
      },
      "text/plain": [
       "HBox(children=(FloatProgress(value=0.0, description='Validating', layout=Layout(flex='2'), max=93.0, style=Pro…"
      ]
     },
     "metadata": {},
     "output_type": "display_data"
    },
    {
     "data": {
      "application/vnd.jupyter.widget-view+json": {
       "model_id": "",
       "version_major": 2,
       "version_minor": 0
      },
      "text/plain": [
       "HBox(children=(FloatProgress(value=0.0, description='Validating', layout=Layout(flex='2'), max=93.0, style=Pro…"
      ]
     },
     "metadata": {},
     "output_type": "display_data"
    },
    {
     "data": {
      "application/vnd.jupyter.widget-view+json": {
       "model_id": "",
       "version_major": 2,
       "version_minor": 0
      },
      "text/plain": [
       "HBox(children=(FloatProgress(value=0.0, description='Validating', layout=Layout(flex='2'), max=93.0, style=Pro…"
      ]
     },
     "metadata": {},
     "output_type": "display_data"
    },
    {
     "data": {
      "application/vnd.jupyter.widget-view+json": {
       "model_id": "",
       "version_major": 2,
       "version_minor": 0
      },
      "text/plain": [
       "HBox(children=(FloatProgress(value=0.0, description='Validating', layout=Layout(flex='2'), max=93.0, style=Pro…"
      ]
     },
     "metadata": {},
     "output_type": "display_data"
    },
    {
     "data": {
      "application/vnd.jupyter.widget-view+json": {
       "model_id": "",
       "version_major": 2,
       "version_minor": 0
      },
      "text/plain": [
       "HBox(children=(FloatProgress(value=0.0, description='Validating', layout=Layout(flex='2'), max=93.0, style=Pro…"
      ]
     },
     "metadata": {},
     "output_type": "display_data"
    },
    {
     "data": {
      "application/vnd.jupyter.widget-view+json": {
       "model_id": "",
       "version_major": 2,
       "version_minor": 0
      },
      "text/plain": [
       "HBox(children=(FloatProgress(value=0.0, description='Validating', layout=Layout(flex='2'), max=93.0, style=Pro…"
      ]
     },
     "metadata": {},
     "output_type": "display_data"
    },
    {
     "data": {
      "application/vnd.jupyter.widget-view+json": {
       "model_id": "",
       "version_major": 2,
       "version_minor": 0
      },
      "text/plain": [
       "HBox(children=(FloatProgress(value=0.0, description='Validating', layout=Layout(flex='2'), max=93.0, style=Pro…"
      ]
     },
     "metadata": {},
     "output_type": "display_data"
    },
    {
     "data": {
      "application/vnd.jupyter.widget-view+json": {
       "model_id": "",
       "version_major": 2,
       "version_minor": 0
      },
      "text/plain": [
       "HBox(children=(FloatProgress(value=0.0, description='Validating', layout=Layout(flex='2'), max=93.0, style=Pro…"
      ]
     },
     "metadata": {},
     "output_type": "display_data"
    },
    {
     "data": {
      "application/vnd.jupyter.widget-view+json": {
       "model_id": "",
       "version_major": 2,
       "version_minor": 0
      },
      "text/plain": [
       "HBox(children=(FloatProgress(value=0.0, description='Validating', layout=Layout(flex='2'), max=93.0, style=Pro…"
      ]
     },
     "metadata": {},
     "output_type": "display_data"
    },
    {
     "data": {
      "application/vnd.jupyter.widget-view+json": {
       "model_id": "",
       "version_major": 2,
       "version_minor": 0
      },
      "text/plain": [
       "HBox(children=(FloatProgress(value=0.0, description='Validating', layout=Layout(flex='2'), max=93.0, style=Pro…"
      ]
     },
     "metadata": {},
     "output_type": "display_data"
    },
    {
     "data": {
      "application/vnd.jupyter.widget-view+json": {
       "model_id": "",
       "version_major": 2,
       "version_minor": 0
      },
      "text/plain": [
       "HBox(children=(FloatProgress(value=0.0, description='Validating', layout=Layout(flex='2'), max=93.0, style=Pro…"
      ]
     },
     "metadata": {},
     "output_type": "display_data"
    },
    {
     "data": {
      "application/vnd.jupyter.widget-view+json": {
       "model_id": "",
       "version_major": 2,
       "version_minor": 0
      },
      "text/plain": [
       "HBox(children=(FloatProgress(value=0.0, description='Validating', layout=Layout(flex='2'), max=93.0, style=Pro…"
      ]
     },
     "metadata": {},
     "output_type": "display_data"
    },
    {
     "data": {
      "application/vnd.jupyter.widget-view+json": {
       "model_id": "",
       "version_major": 2,
       "version_minor": 0
      },
      "text/plain": [
       "HBox(children=(FloatProgress(value=0.0, description='Validating', layout=Layout(flex='2'), max=93.0, style=Pro…"
      ]
     },
     "metadata": {},
     "output_type": "display_data"
    },
    {
     "data": {
      "application/vnd.jupyter.widget-view+json": {
       "model_id": "",
       "version_major": 2,
       "version_minor": 0
      },
      "text/plain": [
       "HBox(children=(FloatProgress(value=0.0, description='Validating', layout=Layout(flex='2'), max=93.0, style=Pro…"
      ]
     },
     "metadata": {},
     "output_type": "display_data"
    },
    {
     "data": {
      "application/vnd.jupyter.widget-view+json": {
       "model_id": "",
       "version_major": 2,
       "version_minor": 0
      },
      "text/plain": [
       "HBox(children=(FloatProgress(value=0.0, description='Validating', layout=Layout(flex='2'), max=93.0, style=Pro…"
      ]
     },
     "metadata": {},
     "output_type": "display_data"
    },
    {
     "data": {
      "application/vnd.jupyter.widget-view+json": {
       "model_id": "",
       "version_major": 2,
       "version_minor": 0
      },
      "text/plain": [
       "HBox(children=(FloatProgress(value=0.0, description='Validating', layout=Layout(flex='2'), max=93.0, style=Pro…"
      ]
     },
     "metadata": {},
     "output_type": "display_data"
    },
    {
     "data": {
      "application/vnd.jupyter.widget-view+json": {
       "model_id": "",
       "version_major": 2,
       "version_minor": 0
      },
      "text/plain": [
       "HBox(children=(FloatProgress(value=0.0, description='Validating', layout=Layout(flex='2'), max=93.0, style=Pro…"
      ]
     },
     "metadata": {},
     "output_type": "display_data"
    },
    {
     "data": {
      "application/vnd.jupyter.widget-view+json": {
       "model_id": "",
       "version_major": 2,
       "version_minor": 0
      },
      "text/plain": [
       "HBox(children=(FloatProgress(value=0.0, description='Validating', layout=Layout(flex='2'), max=93.0, style=Pro…"
      ]
     },
     "metadata": {},
     "output_type": "display_data"
    },
    {
     "data": {
      "application/vnd.jupyter.widget-view+json": {
       "model_id": "",
       "version_major": 2,
       "version_minor": 0
      },
      "text/plain": [
       "HBox(children=(FloatProgress(value=0.0, description='Validating', layout=Layout(flex='2'), max=93.0, style=Pro…"
      ]
     },
     "metadata": {},
     "output_type": "display_data"
    },
    {
     "data": {
      "application/vnd.jupyter.widget-view+json": {
       "model_id": "",
       "version_major": 2,
       "version_minor": 0
      },
      "text/plain": [
       "HBox(children=(FloatProgress(value=0.0, description='Validating', layout=Layout(flex='2'), max=93.0, style=Pro…"
      ]
     },
     "metadata": {},
     "output_type": "display_data"
    },
    {
     "data": {
      "application/vnd.jupyter.widget-view+json": {
       "model_id": "",
       "version_major": 2,
       "version_minor": 0
      },
      "text/plain": [
       "HBox(children=(FloatProgress(value=0.0, description='Validating', layout=Layout(flex='2'), max=93.0, style=Pro…"
      ]
     },
     "metadata": {},
     "output_type": "display_data"
    },
    {
     "data": {
      "application/vnd.jupyter.widget-view+json": {
       "model_id": "",
       "version_major": 2,
       "version_minor": 0
      },
      "text/plain": [
       "HBox(children=(FloatProgress(value=0.0, description='Validating', layout=Layout(flex='2'), max=93.0, style=Pro…"
      ]
     },
     "metadata": {},
     "output_type": "display_data"
    },
    {
     "data": {
      "application/vnd.jupyter.widget-view+json": {
       "model_id": "",
       "version_major": 2,
       "version_minor": 0
      },
      "text/plain": [
       "HBox(children=(FloatProgress(value=0.0, description='Validating', layout=Layout(flex='2'), max=93.0, style=Pro…"
      ]
     },
     "metadata": {},
     "output_type": "display_data"
    },
    {
     "data": {
      "application/vnd.jupyter.widget-view+json": {
       "model_id": "",
       "version_major": 2,
       "version_minor": 0
      },
      "text/plain": [
       "HBox(children=(FloatProgress(value=0.0, description='Validating', layout=Layout(flex='2'), max=93.0, style=Pro…"
      ]
     },
     "metadata": {},
     "output_type": "display_data"
    },
    {
     "data": {
      "application/vnd.jupyter.widget-view+json": {
       "model_id": "",
       "version_major": 2,
       "version_minor": 0
      },
      "text/plain": [
       "HBox(children=(FloatProgress(value=0.0, description='Validating', layout=Layout(flex='2'), max=93.0, style=Pro…"
      ]
     },
     "metadata": {},
     "output_type": "display_data"
    },
    {
     "data": {
      "application/vnd.jupyter.widget-view+json": {
       "model_id": "",
       "version_major": 2,
       "version_minor": 0
      },
      "text/plain": [
       "HBox(children=(FloatProgress(value=0.0, description='Validating', layout=Layout(flex='2'), max=93.0, style=Pro…"
      ]
     },
     "metadata": {},
     "output_type": "display_data"
    },
    {
     "data": {
      "application/vnd.jupyter.widget-view+json": {
       "model_id": "",
       "version_major": 2,
       "version_minor": 0
      },
      "text/plain": [
       "HBox(children=(FloatProgress(value=0.0, description='Validating', layout=Layout(flex='2'), max=93.0, style=Pro…"
      ]
     },
     "metadata": {},
     "output_type": "display_data"
    },
    {
     "data": {
      "application/vnd.jupyter.widget-view+json": {
       "model_id": "",
       "version_major": 2,
       "version_minor": 0
      },
      "text/plain": [
       "HBox(children=(FloatProgress(value=0.0, description='Validating', layout=Layout(flex='2'), max=93.0, style=Pro…"
      ]
     },
     "metadata": {},
     "output_type": "display_data"
    },
    {
     "data": {
      "application/vnd.jupyter.widget-view+json": {
       "model_id": "",
       "version_major": 2,
       "version_minor": 0
      },
      "text/plain": [
       "HBox(children=(FloatProgress(value=0.0, description='Validating', layout=Layout(flex='2'), max=93.0, style=Pro…"
      ]
     },
     "metadata": {},
     "output_type": "display_data"
    },
    {
     "data": {
      "application/vnd.jupyter.widget-view+json": {
       "model_id": "",
       "version_major": 2,
       "version_minor": 0
      },
      "text/plain": [
       "HBox(children=(FloatProgress(value=0.0, description='Validating', layout=Layout(flex='2'), max=93.0, style=Pro…"
      ]
     },
     "metadata": {},
     "output_type": "display_data"
    },
    {
     "data": {
      "application/vnd.jupyter.widget-view+json": {
       "model_id": "",
       "version_major": 2,
       "version_minor": 0
      },
      "text/plain": [
       "HBox(children=(FloatProgress(value=0.0, description='Validating', layout=Layout(flex='2'), max=93.0, style=Pro…"
      ]
     },
     "metadata": {},
     "output_type": "display_data"
    },
    {
     "data": {
      "application/vnd.jupyter.widget-view+json": {
       "model_id": "",
       "version_major": 2,
       "version_minor": 0
      },
      "text/plain": [
       "HBox(children=(FloatProgress(value=0.0, description='Validating', layout=Layout(flex='2'), max=93.0, style=Pro…"
      ]
     },
     "metadata": {},
     "output_type": "display_data"
    },
    {
     "data": {
      "application/vnd.jupyter.widget-view+json": {
       "model_id": "",
       "version_major": 2,
       "version_minor": 0
      },
      "text/plain": [
       "HBox(children=(FloatProgress(value=0.0, description='Validating', layout=Layout(flex='2'), max=93.0, style=Pro…"
      ]
     },
     "metadata": {},
     "output_type": "display_data"
    },
    {
     "data": {
      "application/vnd.jupyter.widget-view+json": {
       "model_id": "",
       "version_major": 2,
       "version_minor": 0
      },
      "text/plain": [
       "HBox(children=(FloatProgress(value=0.0, description='Validating', layout=Layout(flex='2'), max=93.0, style=Pro…"
      ]
     },
     "metadata": {},
     "output_type": "display_data"
    },
    {
     "name": "stderr",
     "output_type": "stream",
     "text": [
      "COMET INFO: ---------------------------\n",
      "COMET INFO: Comet.ml Experiment Summary\n",
      "COMET INFO: ---------------------------\n",
      "COMET INFO:   Data:\n",
      "COMET INFO:     display_summary_level : 1\n",
      "COMET INFO:     url                   : https://www.comet.ml/t-rryyyoooo/youtube/df11c26a160a476d8e47f7e3b66a9ac4\n",
      "COMET INFO:   Metrics [count] (min, max):\n",
      "COMET INFO:     train_loss [1100] : (15.929756164550781, 5496.1669921875)\n",
      "COMET INFO:     val_loss [49]     : (153.5045928955078, 51752.9453125)\n",
      "COMET INFO:     val_rmsle [49]    : (2.170644521713257, 31.470251083374023)\n",
      "COMET INFO:   Others:\n",
      "COMET INFO:     Name : Efficient Net\n",
      "COMET INFO:   Uploads:\n",
      "COMET INFO:     code                     : 1 (7 KB)\n",
      "COMET INFO:     environment details      : 1\n",
      "COMET INFO:     filename                 : 1\n",
      "COMET INFO:     git metadata             : 1\n",
      "COMET INFO:     git-patch (uncompressed) : 1 (113 KB)\n",
      "COMET INFO:     installed packages       : 1\n",
      "COMET INFO:     os packages              : 1\n",
      "COMET INFO: ---------------------------\n"
     ]
    },
    {
     "name": "stdout",
     "output_type": "stream",
     "text": [
      "\n"
     ]
    },
    {
     "name": "stderr",
     "output_type": "stream",
     "text": [
      "COMET INFO: Uploading stats to Comet before program termination (may take several seconds)\n"
     ]
    },
    {
     "data": {
      "text/plain": [
       "1"
      ]
     },
     "execution_count": 7,
     "metadata": {},
     "output_type": "execute_result"
    }
   ],
   "source": [
    "system = EfficientNetSystem(\n",
    "    train_dataset = train_dataset,\n",
    "    train_series = train_series, \n",
    "    val_dataset = val_dataset,\n",
    "    val_series = val_series,\n",
    "    input_size = (130, 100),\n",
    "    batch_size = 64,\n",
    "    checkpoint = BestModelCheckpoint(\"model\"),\n",
    "    lr=0.01\n",
    ")\n",
    "\n",
    "comet_logger = CometLogger(\n",
    "            api_key = \"IowbTppLPOohqhcDtzxw76Cot\",\n",
    "            project_name = \"youtube\",  \n",
    "            experiment_name = \"Efficient Net\",\n",
    "            save_dir = \"log\"\n",
    ")\n",
    "\n",
    "\n",
    "trainer = pl.Trainer(\n",
    "    num_sanity_val_step = 0,\n",
    "    max_epochs = 50,\n",
    "    checkpoint_callback = None,\n",
    "    logger = comet_logger, \n",
    "    gpus = [0, 1],\n",
    "    distributed_backend='dp'\n",
    ")\n",
    "trainer.fit(system)"
   ]
  },
  {
   "cell_type": "code",
   "execution_count": 17,
   "metadata": {},
   "outputs": [
    {
     "name": "stderr",
     "output_type": "stream",
     "text": [
      "/home/vmlab/.local/lib/python3.6/site-packages/ipykernel_launcher.py:24: RuntimeWarning: overflow encountered in exp\n"
     ]
    }
   ],
   "source": [
    "test_path = Path(\"thumbnail/test\")\n",
    "test_dataset = np.array([str(x) for x in sorted(test_path.glob(\"image*\"))])\n",
    "\n",
    "model_path = \"model/best.pkl\"\n",
    "gpuid = [0]\n",
    "with open(model_path, \"rb\") as f:\n",
    "    model = cloudpickle.load(f)\n",
    "    model = torch.nn.DataParallel(model, device_ids=gpuid)\n",
    "\n",
    "model.eval()\n",
    "pred_list = []\n",
    "transform = EfficientNetTransform((130, 100))\n",
    "for path in test_dataset:\n",
    "    image = Image.open(path)\n",
    "    image = transform(\"val\", image)\n",
    "    image = image[np.newaxis, ...]\n",
    "    \n",
    "    pred = model(image)\n",
    "    pred = pred.to(\"cpu\").detach().numpy().astype(np.uint8)\n",
    "    pred = np.squeeze(pred)\n",
    "    pred_list.append(pred)\n",
    "    \n",
    "pred_list = np.array(pred_list)\n",
    "pred_list = np.exp(pred_list)\n",
    "pred_list[pred_list < 0] = 0\n"
   ]
  },
  {
   "cell_type": "code",
   "execution_count": 21,
   "metadata": {},
   "outputs": [
    {
     "data": {
      "text/plain": [
       "False"
      ]
     },
     "execution_count": 21,
     "metadata": {},
     "output_type": "execute_result"
    }
   ],
   "source": []
  },
  {
   "cell_type": "code",
   "execution_count": null,
   "metadata": {},
   "outputs": [],
   "source": []
  }
 ],
 "metadata": {
  "kernelspec": {
   "display_name": "Python 3",
   "language": "python",
   "name": "python3"
  },
  "language_info": {
   "codemirror_mode": {
    "name": "ipython",
    "version": 3
   },
   "file_extension": ".py",
   "mimetype": "text/x-python",
   "name": "python",
   "nbconvert_exporter": "python",
   "pygments_lexer": "ipython3",
   "version": "3.6.9"
  }
 },
 "nbformat": 4,
 "nbformat_minor": 4
}
