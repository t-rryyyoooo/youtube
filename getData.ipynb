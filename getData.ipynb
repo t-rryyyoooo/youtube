{
 "cells": [
  {
   "cell_type": "code",
   "execution_count": 3,
   "metadata": {},
   "outputs": [],
   "source": [
    "import pandas as pd\n",
    "import numpy as np\n",
    "from matplotlib import pyplot as plt\n",
    "from pathlib import Path\n",
    "import os\n",
    "import requests"
   ]
  },
  {
   "cell_type": "code",
   "execution_count": 5,
   "metadata": {},
   "outputs": [],
   "source": [
    "train = pd.read_csv(\"data/train_data.csv\")\n",
    "test = pd.read_csv(\"data/test_data.csv\")"
   ]
  },
  {
   "cell_type": "code",
   "execution_count": 12,
   "metadata": {},
   "outputs": [
    {
     "data": {
      "text/plain": [
       "(29582, 16)"
      ]
     },
     "execution_count": 12,
     "metadata": {},
     "output_type": "execute_result"
    }
   ],
   "source": [
    "test.shape"
   ]
  },
  {
   "cell_type": "code",
   "execution_count": 8,
   "metadata": {},
   "outputs": [
    {
     "name": "stdout",
     "output_type": "stream",
     "text": [
      "Made it to 0\n",
      "Made it to 1000\n",
      "Made it to 2000\n",
      "Made it to 3000\n",
      "Made it to 4000\n",
      "Made it to 5000\n",
      "Made it to 6000\n",
      "Made it to 7000\n",
      "Made it to 8000\n",
      "Made it to 9000\n",
      "Made it to 10000\n",
      "Made it to 11000\n",
      "Made it to 12000\n",
      "Made it to 13000\n",
      "Made it to 14000\n",
      "Made it to 15000\n",
      "Made it to 16000\n",
      "Made it to 17000\n",
      "Made it to 18000\n",
      "Made it to 19000\n",
      "All done.\n"
     ]
    }
   ],
   "source": [
    "for i, url in enumerate(train[\"thumbnail_link\"]):\n",
    "    save_path = Path(\"thumbnail/train/image_{}.jpeg\".format(str(i).zfill(5)))\n",
    "    os.makedirs(save_path.parent, exist_ok=True)\n",
    "    getThumbnail(url, str(save_path))\n",
    "    if i % 1000 == 0:\n",
    "        print(\"Made it to {}\".format(i))\n",
    "print(\"All done.\")"
   ]
  },
  {
   "cell_type": "code",
   "execution_count": 11,
   "metadata": {},
   "outputs": [
    {
     "name": "stdout",
     "output_type": "stream",
     "text": [
      "Made it to 0\n",
      "Made it to 1000\n",
      "Made it to 2000\n",
      "Made it to 3000\n",
      "Made it to 4000\n",
      "Made it to 5000\n",
      "Made it to 6000\n",
      "Made it to 7000\n",
      "Made it to 8000\n",
      "Made it to 9000\n",
      "Made it to 10000\n",
      "Made it to 11000\n",
      "Made it to 12000\n",
      "Made it to 13000\n",
      "Made it to 14000\n",
      "Made it to 15000\n",
      "Made it to 16000\n",
      "Made it to 17000\n",
      "Made it to 18000\n",
      "Made it to 19000\n",
      "Made it to 20000\n",
      "Made it to 21000\n",
      "Made it to 22000\n",
      "Made it to 23000\n",
      "Made it to 24000\n",
      "Made it to 25000\n",
      "Made it to 26000\n",
      "Made it to 27000\n",
      "Made it to 28000\n",
      "Made it to 29000\n",
      "All done.\n"
     ]
    }
   ],
   "source": [
    "for i, url in enumerate(test[\"thumbnail_link\"]):\n",
    "    save_path = Path(\"thumbnail/test/image_{}.jpeg\".format(str(i).zfill(5)))\n",
    "    os.makedirs(save_path.parent, exist_ok=True)\n",
    "    getThumbnail(url, str(save_path))\n",
    "    if i % 1000 == 0:\n",
    "        print(\"Made it to {}\".format(i))\n",
    "print(\"All done.\")"
   ]
  }
 ],
 "metadata": {
  "kernelspec": {
   "display_name": "Python 3",
   "language": "python",
   "name": "python3"
  },
  "language_info": {
   "codemirror_mode": {
    "name": "ipython",
    "version": 3
   },
   "file_extension": ".py",
   "mimetype": "text/x-python",
   "name": "python",
   "nbconvert_exporter": "python",
   "pygments_lexer": "ipython3",
   "version": "3.7.6"
  }
 },
 "nbformat": 4,
 "nbformat_minor": 4
}
